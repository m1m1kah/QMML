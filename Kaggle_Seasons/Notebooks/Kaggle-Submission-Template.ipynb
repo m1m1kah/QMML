{
  "cells": [
    {
      "cell_type": "markdown",
      "metadata": {
        "id": "xcG9WwtPMQb3"
      },
      "source": [
        "# Imports and Installs"
      ]
    },
    {
      "cell_type": "markdown",
      "metadata": {
        "id": "M0xwGvVLMcgl"
      },
      "source": [
        "# Data Loading"
      ]
    },
    {
      "cell_type": "markdown",
      "metadata": {},
      "source": [
        "## Train-Test Split"
      ]
    },
    {
      "cell_type": "markdown",
      "metadata": {
        "id": "o3ElaN-hf4Zo"
      },
      "source": [
        "## (Optional) Data Enhancement"
      ]
    },
    {
      "cell_type": "markdown",
      "metadata": {
        "id": "NolaSI-LNrvn"
      },
      "source": [
        "# (Optional) EDA (Explorative Data Analysis)"
      ]
    },
    {
      "cell_type": "markdown",
      "metadata": {
        "id": "q-WN9BCaLi6G"
      },
      "source": [
        "# Data Preprocessing"
      ]
    },
    {
      "cell_type": "markdown",
      "metadata": {
        "id": "Hl9qGg6xLuAj"
      },
      "source": [
        "## Data Cleaning"
      ]
    },
    {
      "cell_type": "markdown",
      "metadata": {
        "id": "0VNk3rHANA7V"
      },
      "source": [
        "## Encoding"
      ]
    },
    {
      "cell_type": "markdown",
      "metadata": {
        "id": "RaoW1sawNhXQ"
      },
      "source": [
        "## (Optional) Feature Engineering"
      ]
    },
    {
      "cell_type": "markdown",
      "metadata": {},
      "source": [
        "## (Optional) Feature Selection"
      ]
    },
    {
      "cell_type": "markdown",
      "metadata": {
        "id": "gbTvPMrFNPp-"
      },
      "source": [
        "## Normalisation"
      ]
    },
    {
      "cell_type": "markdown",
      "metadata": {
        "id": "YHs3ag34OiuD"
      },
      "source": [
        "# Model Handling"
      ]
    },
    {
      "cell_type": "markdown",
      "metadata": {
        "id": "2axEbRDYO-Yd"
      },
      "source": [
        "## Model Selection"
      ]
    },
    {
      "cell_type": "markdown",
      "metadata": {
        "id": "CNzDjxg6PTPi"
      },
      "source": [
        "## Model Evaluation"
      ]
    },
    {
      "cell_type": "code",
      "execution_count": null,
      "metadata": {
        "id": "OZ18c283XTr0"
      },
      "outputs": [],
      "source": [
        "# Model training\n",
        "# Model predictions\n",
        "# Performance summary\n",
        "\n",
        "### Recommended: complete the model training and model prediction during cross-validation"
      ]
    },
    {
      "cell_type": "markdown",
      "metadata": {
        "id": "tQIBLbk6PXBv"
      },
      "source": [
        "## Model Tuning"
      ]
    },
    {
      "cell_type": "markdown",
      "metadata": {
        "id": "HRhJubybPbF3"
      },
      "source": [
        "### Hyperparameter Optimisation"
      ]
    },
    {
      "cell_type": "markdown",
      "metadata": {
        "id": "E6u5CBo2gNIJ"
      },
      "source": [
        "### (Optional) Parameter Summary"
      ]
    },
    {
      "cell_type": "markdown",
      "metadata": {
        "id": "3WqihjvTeQAt"
      },
      "source": [
        "# (Optional) Ensemble Learning"
      ]
    },
    {
      "cell_type": "markdown",
      "metadata": {
        "id": "YdIR1v9chUTT"
      },
      "source": [
        "## Training"
      ]
    },
    {
      "cell_type": "markdown",
      "metadata": {
        "id": "ie6Oo6EoheYY"
      },
      "source": [
        "## Evaluation"
      ]
    },
    {
      "cell_type": "markdown",
      "metadata": {
        "id": "MijyTZNkhXpb"
      },
      "source": [
        "# Submission"
      ]
    },
    {
      "cell_type": "markdown",
      "metadata": {
        "id": "u8bRFZpwhpEE"
      },
      "source": [
        "# (Optional) To-Do List"
      ]
    }
  ],
  "metadata": {
    "colab": {
      "authorship_tag": "ABX9TyPuBnDr5QL+/V81mOM+Il8t",
      "include_colab_link": true,
      "provenance": []
    },
    "kernelspec": {
      "display_name": "Python 3",
      "name": "python3"
    },
    "language_info": {
      "codemirror_mode": {
        "name": "ipython",
        "version": 3
      },
      "file_extension": ".py",
      "mimetype": "text/x-python",
      "name": "python",
      "nbconvert_exporter": "python",
      "pygments_lexer": "ipython3",
      "version": "3.10.11"
    }
  },
  "nbformat": 4,
  "nbformat_minor": 0
}
