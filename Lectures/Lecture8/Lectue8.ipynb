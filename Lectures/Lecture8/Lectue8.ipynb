{
 "cells": [
  {
   "cell_type": "markdown",
   "metadata": {
    "id": "RJItMl779l9K"
   },
   "source": [
    "## **Lecture 8: Fine-tuning an LLM**  \n",
    "\n",
    "Fine-tuning is the process of taking a pre-trained large language model (LLM) and further training it on a specific dataset to improve its performance on a targeted task. This allows the model to specialize while leveraging the vast knowledge it has already acquired during its initial training phase. Fine-tuning is particularly useful for domain-specific applications, improving chatbot interactions, and enhancing model efficiency.  \n",
    "\n",
    "### **Workshop Information**  \n",
    "\n",
    "This notebook is based on [Link 1](https://goo.gle/gemma-ft-workshop), which was part of a workshop held at the **Google Cloud office**. The session was led by **Gus Martins**, a former **Google Senior Developer and Project Manager** who worked directly on the **Gemma 2 model**. He is now part of **Google DeepMind**, where he continues to contribute to cutting-edge AI research. As such, this notebook includes content that is licensed under the Apache License 2.0. You may use, modify, and distribute this work under the terms of the license. \n",
    "\n",
    "@title Licensed under the Apache License, Version 2.0 (the \"License\");\n",
    "you may not use this file except in compliance with the License.\n",
    "You may obtain a copy of the License at\n",
    "\n",
    "https://www.apache.org/licenses/LICENSE-2.0\n",
    "\n",
    "Unless required by applicable law or agreed to in writing, software\n",
    "distributed under the License is distributed on an \"AS IS\" BASIS,\n",
    "WITHOUT WARRANTIES OR CONDITIONS OF ANY KIND, either express or implied.\n",
    "See the License for the specific language governing permissions and\n",
    "limitations under the License.\n",
    "\n",
    "Copyright 2024 Google LLC.\n",
    "\n",
    "\n",
    "\n",
    "### **Additional Resources**  \n",
    "For further learning, [Link 2](https://goo.gle/gemma-cookbook) provides a comprehensive set of resources to get started with **Gemma models**, covering topics such as fine-tuning, chatbot creation, and more.  \n",
    "\n",
    "To access **Gemma 2 models on Kaggle**, refer to [Link 3](https://www.kaggle.com/models/google/gemma-2).  \n",
    "\n",
    "For guidance on setting up **Gemma on Google Colab**, see [Link 4](https://ai.google.dev/gemma/docs/setup).  \n",
    "\n",
    "\n"
   ]
  },
  {
   "cell_type": "markdown",
   "metadata": {
    "id": "BjHF030im6Mr"
   },
   "source": [
    "### **Reminder**  \n",
    "This code is designed to run on **Google Colab**. If you're not using Colab, please set the environment variables as appropriate for your system."
   ]
  },
  {
   "cell_type": "code",
   "execution_count": null,
   "metadata": {
    "id": "i-OiJP8ODDi3"
   },
   "outputs": [],
   "source": [
    "# Download some important resources\n",
    "# !pip install fsspec==2024.9.0\n",
    "# !pip install -q -U keras-nlp datasets\n",
    "# !pip install -q -U keras"
   ]
  },
  {
   "cell_type": "code",
   "execution_count": 1,
   "metadata": {
    "id": "jvzIiKpETA0F"
   },
   "outputs": [],
   "source": [
    "# Import relevant modules\n",
    "\n",
    "import os\n",
    "from google.colab import userdata, drive\n",
    "import time\n",
    "import keras_nlp\n",
    "import keras\n",
    "import kagglehub\n",
    "import matplotlib.pyplot as plt"
   ]
  },
  {
   "cell_type": "markdown",
   "metadata": {
    "id": "FYH6dDdwhBYT"
   },
   "source": [
    "## **Understanding APIs in AI Development**  \n",
    "\n",
    "An **API (Application Programming Interface)** is a set of rules and protocols that allows different software applications to communicate with each other. APIs enable seamless integration of services, making it easier to access and use external functionalities without needing to understand their internal workings.  \n",
    "\n",
    "### **API in Action – Colab & Kaggle**  \n",
    "In the code snippet below:  \n",
    "\n",
    "```python\n",
    "os.environ['KAGGLE_USERNAME'] = \"KAGGLE_USERNAME\"\n",
    "os.environ['KAGGLE_KEY'] = \"KAGGLE_KEY\"\n",
    "\n",
    "drive.mount(\"/content/drive\")\n",
    "\n",
    "```\n",
    "`os.environ['KAGGLE_USERNAME']` and `os.environ['KAGGLE_KEY']` set environment variables to authenticate with the **Kaggle API**, which is used to download datasets and models.  \n",
    "\n",
    "`drive.mount(\"/content/drive\")` uses **Google Colab's API** to connect and store files in **Google Drive**, allowing persistent storage of artifacts.  \n",
    "\n",
    "APIs like these are essential in AI workflows, automating authentication, data access, and storage integration with minimal effort. 🚀  \n",
    "\n"
   ]
  },
  {
   "cell_type": "code",
   "execution_count": 17,
   "metadata": {
    "colab": {
     "base_uri": "https://localhost:8080/"
    },
    "id": "45DJDytJAuPc",
    "outputId": "6a0deacd-7d10-4930-c8fa-a8c0fc4eaee7"
   },
   "outputs": [
    {
     "name": "stdout",
     "output_type": "stream",
     "text": [
      "Drive already mounted at /content/drive; to attempt to forcibly remount, call drive.mount(\"/content/drive\", force_remount=True).\n"
     ]
    }
   ],
   "source": [
    "# Note: `userdata.get` is a Colab API. If you're not using Colab, set the env\n",
    "# vars as appropriate for your system.\n",
    "\n",
    "os.environ['KAGGLE_USERNAME'] = \"KAGGLE_USERNAME\"\n",
    "os.environ['KAGGLE_KEY'] = \"KAGGLE_KEY\"\n",
    "\n",
    "# Mounting gDrive for to store artifacts\n",
    "drive.mount(\"/content/drive\")"
   ]
  },
  {
   "cell_type": "markdown",
   "metadata": {
    "id": "OTa5YeZSiBHb"
   },
   "source": [
    "## **Set the backend, training configurations, and hyperparameters**\n",
    "\n",
    "This script configures the environment for training a model using the JAX backend with Keras. It ensures that JAX is set as the deep learning backend and optimizes memory usage to prevent fragmentation.  \n",
    "\n",
    "The training configurations define key hyperparameters:  \n",
    "- **`token_limit`** sets the maximum number of tokens per input.  \n",
    "- **`num_data_limit`** controls the number of data samples used.  \n",
    "- **`lora_name`** specifies the identifier for the LoRA (Low-Rank Adaptation) model.  \n",
    "- **`lora_rank`** determines the rank for LoRA fine-tuning, which affects parameter efficiency.  \n",
    "- **`lr_value`** sets the learning rate for optimization.  \n",
    "- **`train_epoch`** defines the number of training epochs.  \n",
    "- **`model_id`** indicates the specific model being fine-tuned, in this case, the Gemma 2 Instruct model.  \n",
    "\n"
   ]
  },
  {
   "cell_type": "code",
   "execution_count": 15,
   "metadata": {
    "id": "fVQSwuJFDfmJ"
   },
   "outputs": [],
   "source": [
    "# Set the backbend before importing Keras\n",
    "os.environ[\"KERAS_BACKEND\"] = \"jax\"\n",
    "# Avoid memory fragmentation on JAX backend.\n",
    "os.environ[\"XLA_PYTHON_CLIENT_MEM_FRACTION\"] = \"1.00\"\n",
    "\n",
    "\n",
    "# Training Configurations\n",
    "token_limit = 128\n",
    "num_data_limit = 100\n",
    "lora_name = \"my_lora\"\n",
    "lora_rank = 4\n",
    "lr_value = 1e-3\n",
    "train_epoch = 10\n",
    "model_id = \"gemma2_instruct_2b_en\""
   ]
  },
  {
   "cell_type": "markdown",
   "metadata": {
    "id": "De_YMltjipDh"
   },
   "source": [
    "## **Understanding the Model Architecture and Numbers**  \n",
    "\n",
    "This breakdown provides key insights into the structure and complexity of the **Gemma Causal Language Model (LLM)** and its tokenizer.  \n",
    "\n",
    "#### **Preprocessor**  \n",
    "- **`gemma_tokenizer` (GemmaTokenizer)**: The tokenizer converts text into numerical tokens using a **vocabulary size of 256,000**, meaning the model can recognize and process up to **256K unique tokens (words, subwords, or characters).**  \n",
    "\n",
    "#### **Model Components**  \n",
    "- **`padding_mask` (InputLayer)**: Handles padding to ensure uniform input sequence length. It has **0 parameters** since it does not require learning.  \n",
    "- **`token_ids` (InputLayer)**: Takes tokenized input sequences, also with **0 parameters.**  \n",
    "- **`gemma_backbone` (GemmaBackbone)**:  \n",
    "  - Outputs a tensor of shape **(None, None, 2304)**, meaning for each token, the model produces a **2304-dimensional embedding**.  \n",
    "  - Contains **2.61 billion parameters**, making it the largest component of the model. These parameters define the core neural network architecture.  \n",
    "- **`token_embedding` (ReversibleEmbedding)**:  \n",
    "  - Outputs a tensor of shape **(None, None, 256000)**, mapping token embeddings back into the vocabulary space.  \n",
    "  - Has **589.8 million parameters**, responsible for learning token representations.  \n",
    "\n",
    "#### **Total Parameters**  \n",
    "- **Total parameters**: **2.61 billion (≈9.74 GB of memory usage).**  \n",
    "- **Trainable parameters**: **All 2.61 billion are trainable**, meaning every part of the model can be fine-tuned.  \n",
    "- **Non-trainable parameters**: **0**, indicating there are no frozen layers.  \n"
   ]
  },
  {
   "cell_type": "code",
   "execution_count": 4,
   "metadata": {
    "colab": {
     "base_uri": "https://localhost:8080/",
     "height": 385
    },
    "id": "1Q6RniZADnvZ",
    "outputId": "7c090520-d05d-4916-ecd1-804897e6a301"
   },
   "outputs": [
    {
     "data": {
      "text/html": [
       "<pre style=\"white-space:pre;overflow-x:auto;line-height:normal;font-family:Menlo,'DejaVu Sans Mono',consolas,'Courier New',monospace\"><span style=\"font-weight: bold\">Preprocessor: \"gemma_causal_lm_preprocessor\"</span>\n",
       "</pre>\n"
      ],
      "text/plain": [
       "\u001b[1mPreprocessor: \"gemma_causal_lm_preprocessor\"\u001b[0m\n"
      ]
     },
     "metadata": {},
     "output_type": "display_data"
    },
    {
     "data": {
      "text/html": [
       "<pre style=\"white-space:pre;overflow-x:auto;line-height:normal;font-family:Menlo,'DejaVu Sans Mono',consolas,'Courier New',monospace\">┏━━━━━━━━━━━━━━━━━━━━━━━━━━━━━━━━━━━━━━━━━━━━━━━━━━━━━━━━━━━━━━━┳━━━━━━━━━━━━━━━━━━━━━━━━━━━━━━━━━━━━━━━━━━┓\n",
       "┃<span style=\"font-weight: bold\"> Layer (type)                                                  </span>┃<span style=\"font-weight: bold\">                                   Config </span>┃\n",
       "┡━━━━━━━━━━━━━━━━━━━━━━━━━━━━━━━━━━━━━━━━━━━━━━━━━━━━━━━━━━━━━━━╇━━━━━━━━━━━━━━━━━━━━━━━━━━━━━━━━━━━━━━━━━━┩\n",
       "│ gemma_tokenizer (<span style=\"color: #0087ff; text-decoration-color: #0087ff\">GemmaTokenizer</span>)                              │                      Vocab size: <span style=\"color: #00af00; text-decoration-color: #00af00\">256,000</span> │\n",
       "└───────────────────────────────────────────────────────────────┴──────────────────────────────────────────┘\n",
       "</pre>\n"
      ],
      "text/plain": [
       "┏━━━━━━━━━━━━━━━━━━━━━━━━━━━━━━━━━━━━━━━━━━━━━━━━━━━━━━━━━━━━━━━┳━━━━━━━━━━━━━━━━━━━━━━━━━━━━━━━━━━━━━━━━━━┓\n",
       "┃\u001b[1m \u001b[0m\u001b[1mLayer (type)                                                 \u001b[0m\u001b[1m \u001b[0m┃\u001b[1m \u001b[0m\u001b[1m                                  Config\u001b[0m\u001b[1m \u001b[0m┃\n",
       "┡━━━━━━━━━━━━━━━━━━━━━━━━━━━━━━━━━━━━━━━━━━━━━━━━━━━━━━━━━━━━━━━╇━━━━━━━━━━━━━━━━━━━━━━━━━━━━━━━━━━━━━━━━━━┩\n",
       "│ gemma_tokenizer (\u001b[38;5;33mGemmaTokenizer\u001b[0m)                              │                      Vocab size: \u001b[38;5;34m256,000\u001b[0m │\n",
       "└───────────────────────────────────────────────────────────────┴──────────────────────────────────────────┘\n"
      ]
     },
     "metadata": {},
     "output_type": "display_data"
    },
    {
     "data": {
      "text/html": [
       "<pre style=\"white-space:pre;overflow-x:auto;line-height:normal;font-family:Menlo,'DejaVu Sans Mono',consolas,'Courier New',monospace\"><span style=\"font-weight: bold\">Model: \"gemma_causal_lm\"</span>\n",
       "</pre>\n"
      ],
      "text/plain": [
       "\u001b[1mModel: \"gemma_causal_lm\"\u001b[0m\n"
      ]
     },
     "metadata": {},
     "output_type": "display_data"
    },
    {
     "data": {
      "text/html": [
       "<pre style=\"white-space:pre;overflow-x:auto;line-height:normal;font-family:Menlo,'DejaVu Sans Mono',consolas,'Courier New',monospace\">┏━━━━━━━━━━━━━━━━━━━━━━━━━━━━━━━┳━━━━━━━━━━━━━━━━━━━━━━━━━━━┳━━━━━━━━━━━━━━━━━┳━━━━━━━━━━━━━━━━━━━━━━━━━━━━┓\n",
       "┃<span style=\"font-weight: bold\"> Layer (type)                  </span>┃<span style=\"font-weight: bold\"> Output Shape              </span>┃<span style=\"font-weight: bold\">         Param # </span>┃<span style=\"font-weight: bold\"> Connected to               </span>┃\n",
       "┡━━━━━━━━━━━━━━━━━━━━━━━━━━━━━━━╇━━━━━━━━━━━━━━━━━━━━━━━━━━━╇━━━━━━━━━━━━━━━━━╇━━━━━━━━━━━━━━━━━━━━━━━━━━━━┩\n",
       "│ padding_mask (<span style=\"color: #0087ff; text-decoration-color: #0087ff\">InputLayer</span>)     │ (<span style=\"color: #00d7ff; text-decoration-color: #00d7ff\">None</span>, <span style=\"color: #00d7ff; text-decoration-color: #00d7ff\">None</span>)              │               <span style=\"color: #00af00; text-decoration-color: #00af00\">0</span> │ -                          │\n",
       "├───────────────────────────────┼───────────────────────────┼─────────────────┼────────────────────────────┤\n",
       "│ token_ids (<span style=\"color: #0087ff; text-decoration-color: #0087ff\">InputLayer</span>)        │ (<span style=\"color: #00d7ff; text-decoration-color: #00d7ff\">None</span>, <span style=\"color: #00d7ff; text-decoration-color: #00d7ff\">None</span>)              │               <span style=\"color: #00af00; text-decoration-color: #00af00\">0</span> │ -                          │\n",
       "├───────────────────────────────┼───────────────────────────┼─────────────────┼────────────────────────────┤\n",
       "│ gemma_backbone                │ (<span style=\"color: #00d7ff; text-decoration-color: #00d7ff\">None</span>, <span style=\"color: #00d7ff; text-decoration-color: #00d7ff\">None</span>, <span style=\"color: #00af00; text-decoration-color: #00af00\">2304</span>)        │   <span style=\"color: #00af00; text-decoration-color: #00af00\">2,614,341,888</span> │ padding_mask[<span style=\"color: #00af00; text-decoration-color: #00af00\">0</span>][<span style=\"color: #00af00; text-decoration-color: #00af00\">0</span>],        │\n",
       "│ (<span style=\"color: #0087ff; text-decoration-color: #0087ff\">GemmaBackbone</span>)               │                           │                 │ token_ids[<span style=\"color: #00af00; text-decoration-color: #00af00\">0</span>][<span style=\"color: #00af00; text-decoration-color: #00af00\">0</span>]            │\n",
       "├───────────────────────────────┼───────────────────────────┼─────────────────┼────────────────────────────┤\n",
       "│ token_embedding               │ (<span style=\"color: #00d7ff; text-decoration-color: #00d7ff\">None</span>, <span style=\"color: #00d7ff; text-decoration-color: #00d7ff\">None</span>, <span style=\"color: #00af00; text-decoration-color: #00af00\">256000</span>)      │     <span style=\"color: #00af00; text-decoration-color: #00af00\">589,824,000</span> │ gemma_backbone[<span style=\"color: #00af00; text-decoration-color: #00af00\">0</span>][<span style=\"color: #00af00; text-decoration-color: #00af00\">0</span>]       │\n",
       "│ (<span style=\"color: #0087ff; text-decoration-color: #0087ff\">ReversibleEmbedding</span>)         │                           │                 │                            │\n",
       "└───────────────────────────────┴───────────────────────────┴─────────────────┴────────────────────────────┘\n",
       "</pre>\n"
      ],
      "text/plain": [
       "┏━━━━━━━━━━━━━━━━━━━━━━━━━━━━━━━┳━━━━━━━━━━━━━━━━━━━━━━━━━━━┳━━━━━━━━━━━━━━━━━┳━━━━━━━━━━━━━━━━━━━━━━━━━━━━┓\n",
       "┃\u001b[1m \u001b[0m\u001b[1mLayer (type)                 \u001b[0m\u001b[1m \u001b[0m┃\u001b[1m \u001b[0m\u001b[1mOutput Shape             \u001b[0m\u001b[1m \u001b[0m┃\u001b[1m \u001b[0m\u001b[1m        Param #\u001b[0m\u001b[1m \u001b[0m┃\u001b[1m \u001b[0m\u001b[1mConnected to              \u001b[0m\u001b[1m \u001b[0m┃\n",
       "┡━━━━━━━━━━━━━━━━━━━━━━━━━━━━━━━╇━━━━━━━━━━━━━━━━━━━━━━━━━━━╇━━━━━━━━━━━━━━━━━╇━━━━━━━━━━━━━━━━━━━━━━━━━━━━┩\n",
       "│ padding_mask (\u001b[38;5;33mInputLayer\u001b[0m)     │ (\u001b[38;5;45mNone\u001b[0m, \u001b[38;5;45mNone\u001b[0m)              │               \u001b[38;5;34m0\u001b[0m │ -                          │\n",
       "├───────────────────────────────┼───────────────────────────┼─────────────────┼────────────────────────────┤\n",
       "│ token_ids (\u001b[38;5;33mInputLayer\u001b[0m)        │ (\u001b[38;5;45mNone\u001b[0m, \u001b[38;5;45mNone\u001b[0m)              │               \u001b[38;5;34m0\u001b[0m │ -                          │\n",
       "├───────────────────────────────┼───────────────────────────┼─────────────────┼────────────────────────────┤\n",
       "│ gemma_backbone                │ (\u001b[38;5;45mNone\u001b[0m, \u001b[38;5;45mNone\u001b[0m, \u001b[38;5;34m2304\u001b[0m)        │   \u001b[38;5;34m2,614,341,888\u001b[0m │ padding_mask[\u001b[38;5;34m0\u001b[0m][\u001b[38;5;34m0\u001b[0m],        │\n",
       "│ (\u001b[38;5;33mGemmaBackbone\u001b[0m)               │                           │                 │ token_ids[\u001b[38;5;34m0\u001b[0m][\u001b[38;5;34m0\u001b[0m]            │\n",
       "├───────────────────────────────┼───────────────────────────┼─────────────────┼────────────────────────────┤\n",
       "│ token_embedding               │ (\u001b[38;5;45mNone\u001b[0m, \u001b[38;5;45mNone\u001b[0m, \u001b[38;5;34m256000\u001b[0m)      │     \u001b[38;5;34m589,824,000\u001b[0m │ gemma_backbone[\u001b[38;5;34m0\u001b[0m][\u001b[38;5;34m0\u001b[0m]       │\n",
       "│ (\u001b[38;5;33mReversibleEmbedding\u001b[0m)         │                           │                 │                            │\n",
       "└───────────────────────────────┴───────────────────────────┴─────────────────┴────────────────────────────┘\n"
      ]
     },
     "metadata": {},
     "output_type": "display_data"
    },
    {
     "data": {
      "text/html": [
       "<pre style=\"white-space:pre;overflow-x:auto;line-height:normal;font-family:Menlo,'DejaVu Sans Mono',consolas,'Courier New',monospace\"><span style=\"font-weight: bold\"> Total params: </span><span style=\"color: #00af00; text-decoration-color: #00af00\">2,614,341,888</span> (9.74 GB)\n",
       "</pre>\n"
      ],
      "text/plain": [
       "\u001b[1m Total params: \u001b[0m\u001b[38;5;34m2,614,341,888\u001b[0m (9.74 GB)\n"
      ]
     },
     "metadata": {},
     "output_type": "display_data"
    },
    {
     "data": {
      "text/html": [
       "<pre style=\"white-space:pre;overflow-x:auto;line-height:normal;font-family:Menlo,'DejaVu Sans Mono',consolas,'Courier New',monospace\"><span style=\"font-weight: bold\"> Trainable params: </span><span style=\"color: #00af00; text-decoration-color: #00af00\">2,614,341,888</span> (9.74 GB)\n",
       "</pre>\n"
      ],
      "text/plain": [
       "\u001b[1m Trainable params: \u001b[0m\u001b[38;5;34m2,614,341,888\u001b[0m (9.74 GB)\n"
      ]
     },
     "metadata": {},
     "output_type": "display_data"
    },
    {
     "data": {
      "text/html": [
       "<pre style=\"white-space:pre;overflow-x:auto;line-height:normal;font-family:Menlo,'DejaVu Sans Mono',consolas,'Courier New',monospace\"><span style=\"font-weight: bold\"> Non-trainable params: </span><span style=\"color: #00af00; text-decoration-color: #00af00\">0</span> (0.00 B)\n",
       "</pre>\n"
      ],
      "text/plain": [
       "\u001b[1m Non-trainable params: \u001b[0m\u001b[38;5;34m0\u001b[0m (0.00 B)\n"
      ]
     },
     "metadata": {},
     "output_type": "display_data"
    }
   ],
   "source": [
    "gemma_lm = keras_nlp.models.GemmaCausalLM.from_preset(model_id) # Load the model\n",
    "gemma_lm.summary() # Gemma 2 model summary\n",
    "\n",
    "tick_start = 0\n",
    "\n",
    "def tick():\n",
    "    global tick_start\n",
    "    tick_start = time.time()\n",
    "\n",
    "def tock():\n",
    "    print(f\"TOTAL TIME ELAPSED: {time.time() - tick_start:.2f}s\")\n",
    "\n",
    "\n",
    "# Format the model to complete a conversation (Prompt engineering)\n",
    "\n",
    "def text_gen(prompt):\n",
    "    tick()\n",
    "    input = f\"user\\n{prompt}\\nmodel\\n\"\n",
    "    output = gemma_lm.generate(input, max_length=token_limit)\n",
    "    print(\"\\nGemma output:\")\n",
    "    print(output)\n",
    "    tock()"
   ]
  },
  {
   "cell_type": "code",
   "execution_count": 5,
   "metadata": {
    "colab": {
     "base_uri": "https://localhost:8080/"
    },
    "id": "tE6oqmgTDwf4",
    "outputId": "de3c56e2-72d3-48de-8969-839e6f839d87"
   },
   "outputs": [
    {
     "name": "stdout",
     "output_type": "stream",
     "text": [
      "\n",
      "Gemma output:\n",
      "user\n",
      "Make the following sentence more romantic.\n",
      "\"Hi, do you want to go out?\"\n",
      "model\n",
      "Here are a few ways to make the sentence \"Hi, do you want to go out?\" more romantic, depending on the tone you're going for:\n",
      "\n",
      "**Playful & Flirty:**\n",
      "\n",
      "* \"Fancy a night out? 😉\"\n",
      "* \"I was thinking of checking out [place]. Want to join me?\"\n",
      "* \"I'd love to take you out sometime. What do you say?\"\n",
      "\n",
      "**Sweet & Suggestive:**\n",
      "\n",
      "* \"I've been wanting to try that\n",
      "TOTAL TIME ELAPSED: 39.49s\n",
      "\n",
      "Gemma output:\n",
      "user\n",
      "Speak like a pirate. What is Saint Valentine's day\n",
      "model\n",
      "Ahoy, matey!  Ye be askin' 'bout Saint Valentine's Day, eh?  Shiver me timbers, it be a day for love, like a mermaid's song! \n",
      "\n",
      "It be a day for the landlubbers to show their love for their sweethearts, like a treasure chest full o' jewels.  They write letters, give gifts, and maybe even share a kiss, like a pirate kissin' a mermaid! \n",
      "\n",
      "But beware, me hearties!  Some landlubbers be\n",
      "TOTAL TIME ELAPSED: 1.10s\n",
      "\n",
      "Gemma output:\n",
      "user\n",
      "Write a love poem\n",
      "model\n",
      "Your laughter, a melody that dances in my ear,\n",
      "A symphony of joy, chasing away all fear.\n",
      "Your eyes, twin pools of starlight, shimmering bright,\n",
      "Reflecting a love that burns with endless light.\n",
      "\n",
      "Your touch, a featherlight caress, a gentle breeze,\n",
      "Whispering secrets only our hearts can seize.\n",
      "Your voice, a soothing balm, a lullaby so sweet,\n",
      "Guiding me through darkness, making my spirit complete.\n",
      "\n",
      "With every passing moment, my love for you grows strong,\n",
      "A vibrant tapestry woven, where we both belong.\n",
      "TOTAL TIME ELAPSED: 1.18s\n"
     ]
    }
   ],
   "source": [
    "# Inference before fine-tuning. Let's look at some examples!\n",
    "text_gen(\"Make the following sentence more romantic.\\n\\\"Hi, do you want to go out?\\\"\")\n",
    "text_gen(\"Speak like a pirate. What is Saint Valentine's day\")\n",
    "text_gen(\"Write a love poem\")"
   ]
  },
  {
   "cell_type": "markdown",
   "metadata": {
    "id": "y1nWakmbjkiH"
   },
   "source": [
    "### **What is a Tokenizer?**  \n",
    "\n",
    "A tokenizer converts human language into numerical tokens that AI models can process. It acts as a translator between words and the numerical format LLMs understand.  \n",
    "\n",
    "#### **Gemma Tokenizer**  \n",
    "- Based on **SentencePiece**, it learns optimal subword segmentation based on a **fixed 256K vocabulary**.  \n",
    "- Uses **byte-level encoding**, enabling support for all languages, including those with complex writing systems (e.g., Chinese, Japanese, Korean).  \n",
    "- A large vocabulary improves performance on diverse tasks, including multilingual text processing.  \n"
   ]
  },
  {
   "cell_type": "code",
   "execution_count": 14,
   "metadata": {
    "colab": {
     "base_uri": "https://localhost:8080/"
    },
    "id": "FDm3uGJ5EgLN",
    "outputId": "d11047ec-9aaf-4fd7-8264-7c789a2cfb26"
   },
   "outputs": [
    {
     "name": "stdout",
     "output_type": "stream",
     "text": [
      "tf.Tensor(\n",
      "[  2045    791   1125  10920 235269    970 160976 235269    832   1593\n",
      "   1450   4868    578  24615   2705 235265   1927    590   4880   2182\n",
      " 235269    692   6293    665    577    682 235269  14062    692 235341], shape=(30,), dtype=int32)\n",
      "  2045 -> You\n",
      "   791 ->  have\n",
      "  1125 ->  been\n",
      " 10920 ->  wonderful\n",
      "235269 -> ,\n",
      "   970 ->  my\n",
      "160976 ->  Juliette\n",
      "235269 -> ,\n",
      "   832 ->  all\n",
      "  1593 ->  through\n",
      "  1450 ->  these\n",
      "  4868 ->  dark\n",
      "   578 ->  and\n",
      " 24615 ->  violent\n",
      "  2705 ->  days\n",
      "235265 -> .\n",
      "  1927 ->  If\n",
      "   590 ->  I\n",
      "  4880 ->  needed\n",
      "  2182 ->  love\n",
      "235269 -> ,\n",
      "   692 ->  you\n",
      "  6293 ->  brought\n",
      "   665 ->  it\n",
      "   577 ->  to\n",
      "   682 ->  me\n",
      "235269 -> ,\n",
      " 14062 ->  bless\n",
      "   692 ->  you\n",
      "235341 -> !\n",
      "\n",
      "tf.Tensor([24911 14715   603  2245 27787], shape=(5,), dtype=int32)\n",
      " 24911 -> Machine\n",
      " 14715 ->  Learning\n",
      "   603 ->  is\n",
      "  2245 ->  fun\n",
      " 27787 -> !.\n"
     ]
    }
   ],
   "source": [
    "tokenizer = keras_nlp.models.GemmaTokenizer.from_preset(model_id)\n",
    "import jax\n",
    "\n",
    "def detoken(tokens):\n",
    "  print(tokens)\n",
    "  for x in tokens:\n",
    "    word = tokenizer.detokenize(jax.numpy.array([x]))\n",
    "    print(f\"{x:6} -> {word}\")\n",
    "\n",
    "# (example text: “Hi, Nice to meet you. The weather is really nice today.”)\n",
    "detoken(tokenizer(\"You have been wonderful, my Juliette, all through these dark and violent days. If I needed love, you brought it to me, bless you!\"))\n",
    "print()\n",
    "detoken(tokenizer(\"Machine Learning is fun!.\"))"
   ]
  },
  {
   "cell_type": "markdown",
   "metadata": {
    "id": "vkjagFRGkB9-"
   },
   "source": [
    "### **Kaggle Love Letters Dataset**  \n",
    "\n",
    "This dataset contains text files with real love letters written by individuals in the past. It will be used to fine-tune the model, enabling it to respond in a more romantic style or generate romantic letters. By training the model on this specific type of text, we can guide it to produce responses that align with the tone, sentiment, and language of love letters. 💌  \n"
   ]
  },
  {
   "cell_type": "code",
   "execution_count": 7,
   "metadata": {
    "colab": {
     "base_uri": "https://localhost:8080/"
    },
    "id": "6DvVWLkW8c5b",
    "outputId": "a0baad74-f530-4535-e648-fa0f68273182"
   },
   "outputs": [
    {
     "name": "stdout",
     "output_type": "stream",
     "text": [
      "Warning: Looks like you're using an outdated `kagglehub` version (installed: 0.3.6), please consider upgrading to the latest version (0.3.7).\n",
      "Downloading from https://www.kaggle.com/api/v1/datasets/download/fillerink/love-letters?dataset_version_number=3...\n"
     ]
    },
    {
     "name": "stderr",
     "output_type": "stream",
     "text": [
      "100%|██████████| 62.5k/62.5k [00:00<00:00, 47.6MB/s]"
     ]
    },
    {
     "name": "stdout",
     "output_type": "stream",
     "text": [
      "Extracting files...\n",
      "Path to dataset files: /root/.cache/kagglehub/datasets/fillerink/love-letters/versions/3\n"
     ]
    },
    {
     "name": "stderr",
     "output_type": "stream",
     "text": [
      "\n"
     ]
    }
   ],
   "source": [
    "\n",
    "# Download latest version\n",
    "path = kagglehub.dataset_download(\"fillerink/love-letters\")\n",
    "\n",
    "print(\"Path to dataset files:\", path)"
   ]
  },
  {
   "cell_type": "code",
   "execution_count": 8,
   "metadata": {
    "colab": {
     "base_uri": "https://localhost:8080/"
    },
    "id": "YS08Z3F4FaqV",
    "outputId": "61b5d9b4-f9dc-4197-ce2c-1c2959fa390f"
   },
   "outputs": [
    {
     "name": "stdout",
     "output_type": "stream",
     "text": [
      "Total number of love letters: 88\n",
      "\n",
      "Letter 1 (first 200 characters):\n",
      "Best Beloved,\n",
      "I send you some allumettes (lampshades) wherewith to kindle the taper. There are very few but my second finger could no longer \n",
      "perform extra duty. These will serve till the wounded one \n",
      "\n",
      "Letter 2 (first 200 characters):\n",
      "My very dear Sarah:\n",
      "The indications are very strong that we shall move in a few days — perhaps tomorrow. Lest I should not be able to write you again, \n",
      "I feel impelled to write lines that may fall und\n",
      "\n",
      "Letter 3 (first 200 characters):\n",
      "You have been wonderful, my Juliette, all through these dark and violent days. If I needed love, you brought it to me, bless you! \n",
      "When, in my hiding places, always dangerous, after a night of waiting\n"
     ]
    }
   ],
   "source": [
    "import os\n",
    "\n",
    "def load_text_files(directory):\n",
    "    \"\"\"\n",
    "    Load all .txt files from a given directory into a list\n",
    "\n",
    "    Args:\n",
    "        directory (str): Path to the directory containing text files\n",
    "\n",
    "    Returns:\n",
    "        list: A list of strings, each string being the content of a text file\n",
    "    \"\"\"\n",
    "    # List to store file contents\n",
    "    love_letters = []\n",
    "\n",
    "    # Walk through the directory\n",
    "    for root, dirs, files in os.walk(directory):\n",
    "        for file in files:\n",
    "            # Check if the file is a .txt file\n",
    "            if file.endswith('.txt'):\n",
    "                # Construct full file path\n",
    "                file_path = os.path.join(root, file)\n",
    "\n",
    "                # Read the file content\n",
    "                try:\n",
    "                    with open(file_path, 'r', encoding='utf-8') as f:\n",
    "                        content = f.read()\n",
    "                        love_letters.append(content)\n",
    "                except Exception as e:\n",
    "                    print(f\"Error reading file {file_path}: {e}\")\n",
    "\n",
    "    return love_letters\n",
    "\n",
    "# Load the text files\n",
    "love_letters = load_text_files(path)\n",
    "\n",
    "# Print some basic information\n",
    "print(f\"Total number of love letters: {len(love_letters)}\")\n",
    "\n",
    "# Optional: Print the first few letters to verify\n",
    "for i, letter in enumerate(love_letters[:3], 1):\n",
    "    print(f\"\\nLetter {i} (first 200 characters):\")\n",
    "    print(letter[:200])"
   ]
  },
  {
   "cell_type": "code",
   "execution_count": 9,
   "metadata": {
    "colab": {
     "base_uri": "https://localhost:8080/"
    },
    "id": "OMLmxZoIGJFH",
    "outputId": "680c91f5-3c73-4c64-9b2e-e728e2e8114c"
   },
   "outputs": [
    {
     "name": "stdout",
     "output_type": "stream",
     "text": [
      "14\n",
      "user\n",
      "Explain something interesting to me.\n",
      "model\n",
      "Don’t write too legibly or intelligibly as I have no occupation so pleasant as pondering for hours over your hieroglyphics, \n",
      "and for hours more trying to interpret your dark sayings.  A clearly written simply expressed letter is too like the lightening.\n",
      "\n",
      "user\n",
      "Explain something interesting to me.\n",
      "model\n",
      "Our love will bloom always fairer, fresher, more gracious, because it is a true love, and because genuine love is ever increasing.\n",
      "It is a beautiful plant growing from year to year in the heart, ever extending its palms and branches, doubling every \n",
      "season its glorious clusters and perfumes; and, my dear life, tell me, repeat to me always, that nothing will bruise its \n",
      "bark or its delicate leaves, that it will grow larger in both our hearts, loved, free, watched over, like a life within our life…\n",
      "\n",
      "user\n",
      "Explain something interesting to me.\n",
      "model\n",
      "Dearest,\n",
      "I wish I had the gift of making rhymes, for methinks there is poetry in my head and heart since I have been in love with you. \n",
      "You are a Poem. Of what sort, then? Epic? Mercy on me, no! A sonnet? No; for that is too labored and artificial. You are a sort of sweet, \n",
      "simple, gay, pathetic ballad, which Nature is singing, sometimes with tears, sometimes with smiles, and sometimes with intermingled smiles \n",
      "and tears.\n"
     ]
    }
   ],
   "source": [
    "# Let's have a look at the training dataset\n",
    "\n",
    "tokenizer = keras_nlp.models.GemmaTokenizer.from_preset(model_id)\n",
    "\n",
    "train = []\n",
    "\n",
    "for x in love_letters:\n",
    "  item = f\"user\\nExplain something interesting to me.\\nmodel\\n{x}\"\n",
    "  length = len(tokenizer(item))\n",
    "  # skip data if the token length is longer than our limit\n",
    "  if length < token_limit:\n",
    "    train.append(item)\n",
    "    if(len(train)>=num_data_limit):\n",
    "      break\n",
    "\n",
    "print(len(train))\n",
    "print(train[0])\n",
    "print()\n",
    "print(train[1])\n",
    "print()\n",
    "print(train[2])"
   ]
  },
  {
   "cell_type": "markdown",
   "metadata": {
    "id": "_CRM6Telka3H"
   },
   "source": [
    "## **Understanding LoRA (Low-Rank Adaptation)**  \n",
    "\n",
    "LoRA is a technique for efficiently fine-tuning large models by introducing trainable low-rank matrices into the model architecture. Instead of updating the entire model, LoRA introduces smaller, trainable matrices to approximate the changes needed for fine-tuning. These matrices are of low rank, meaning they have fewer parameters than the original weight matrices, making the fine-tuning process more memory-efficient and faster.  \n",
    "\n",
    "The key idea is that instead of modifying all of the model's parameters during fine-tuning, LoRA modifies only these small, low-rank matrices, which results in more efficient training.  \n",
    "\n",
    "### **LoRA on Gemma Model**  \n",
    "\n",
    "Enabling **LoRA** on the **Gemma model backbone** and setting the **LoRA rank** to 4 controls the size of the low-rank matrices. A lower rank means fewer parameters, which leads to a more memory-efficient model.\n",
    "\n",
    "### **Model Summary:**\n",
    "\n",
    "The model has **2.62 billion parameters**, with **2.93 million trainable parameters** and **2.61 billion non-trainable parameters** (which are the pre-trained parts). These parameters define the layers, output shapes, and connectivity within the model, allowing for advanced language processing tasks.\n",
    "\n",
    "### **Sequence Length Limitation:**\n",
    "\n",
    "To control memory usage and avoid overwhelming system resources, the input sequence length is limited to a set value. This ensures that the model handles inputs of varying lengths efficiently.\n",
    "\n",
    "### **Optimizer Setup:**\n",
    "\n",
    "An **AdamW optimizer** is used during training, featuring a learning rate and weight decay for regularization. Weight decay helps prevent overfitting by penalizing large weights, ensuring the model generalizes well.\n",
    "\n",
    "### **Excluding Layers from Weight Decay:**\n",
    "\n",
    "Bias and scale terms are excluded from weight decay since they are typically less prone to overfitting, allowing the model to focus on the more critical parameters for optimization.\n",
    "\n",
    "### **Model Compilation:**\n",
    "\n",
    "The model is compiled with:\n",
    "- **SparseCategoricalCrossentropy** as the loss function, ideal for multi-class classification tasks.\n",
    "- **AdamW** as the optimizer, designed to optimize training effectively.\n",
    "- **SparseCategoricalAccuracy** as a metric to measure the model's performance during training.\n",
    "\n",
    "### **Model Architecture Summary:**\n",
    "- **Tokenizer**: Uses a **256,000-token vocabulary** to process input text.\n",
    "- **Gemma Backbone**: Generates embeddings with **2.62 billion parameters**.\n",
    "- **Token Embedding**: Maps token embeddings to the output vocabulary space with **589.8 million parameters**.\n",
    "\n",
    "Note that enabling LoRA reduces the number of trainable parameters significantly.\n",
    "\n",
    "From 2,617,270,528 to 2,928,640\n",
    "\n",
    "To monitor the learning progress, you will evaluate the model at the end of each epoch and save the lora weights.\n"
   ]
  },
  {
   "cell_type": "code",
   "execution_count": 10,
   "metadata": {
    "colab": {
     "base_uri": "https://localhost:8080/",
     "height": 385
    },
    "id": "tUPhtI7uGZFX",
    "outputId": "2d2d1eea-9cf7-4b58-9953-28b3ce6eb8ec"
   },
   "outputs": [
    {
     "data": {
      "text/html": [
       "<pre style=\"white-space:pre;overflow-x:auto;line-height:normal;font-family:Menlo,'DejaVu Sans Mono',consolas,'Courier New',monospace\"><span style=\"font-weight: bold\">Preprocessor: \"gemma_causal_lm_preprocessor\"</span>\n",
       "</pre>\n"
      ],
      "text/plain": [
       "\u001b[1mPreprocessor: \"gemma_causal_lm_preprocessor\"\u001b[0m\n"
      ]
     },
     "metadata": {},
     "output_type": "display_data"
    },
    {
     "data": {
      "text/html": [
       "<pre style=\"white-space:pre;overflow-x:auto;line-height:normal;font-family:Menlo,'DejaVu Sans Mono',consolas,'Courier New',monospace\">┏━━━━━━━━━━━━━━━━━━━━━━━━━━━━━━━━━━━━━━━━━━━━━━━━━━━━━━━━━━━━━━━┳━━━━━━━━━━━━━━━━━━━━━━━━━━━━━━━━━━━━━━━━━━┓\n",
       "┃<span style=\"font-weight: bold\"> Layer (type)                                                  </span>┃<span style=\"font-weight: bold\">                                   Config </span>┃\n",
       "┡━━━━━━━━━━━━━━━━━━━━━━━━━━━━━━━━━━━━━━━━━━━━━━━━━━━━━━━━━━━━━━━╇━━━━━━━━━━━━━━━━━━━━━━━━━━━━━━━━━━━━━━━━━━┩\n",
       "│ gemma_tokenizer (<span style=\"color: #0087ff; text-decoration-color: #0087ff\">GemmaTokenizer</span>)                              │                      Vocab size: <span style=\"color: #00af00; text-decoration-color: #00af00\">256,000</span> │\n",
       "└───────────────────────────────────────────────────────────────┴──────────────────────────────────────────┘\n",
       "</pre>\n"
      ],
      "text/plain": [
       "┏━━━━━━━━━━━━━━━━━━━━━━━━━━━━━━━━━━━━━━━━━━━━━━━━━━━━━━━━━━━━━━━┳━━━━━━━━━━━━━━━━━━━━━━━━━━━━━━━━━━━━━━━━━━┓\n",
       "┃\u001b[1m \u001b[0m\u001b[1mLayer (type)                                                 \u001b[0m\u001b[1m \u001b[0m┃\u001b[1m \u001b[0m\u001b[1m                                  Config\u001b[0m\u001b[1m \u001b[0m┃\n",
       "┡━━━━━━━━━━━━━━━━━━━━━━━━━━━━━━━━━━━━━━━━━━━━━━━━━━━━━━━━━━━━━━━╇━━━━━━━━━━━━━━━━━━━━━━━━━━━━━━━━━━━━━━━━━━┩\n",
       "│ gemma_tokenizer (\u001b[38;5;33mGemmaTokenizer\u001b[0m)                              │                      Vocab size: \u001b[38;5;34m256,000\u001b[0m │\n",
       "└───────────────────────────────────────────────────────────────┴──────────────────────────────────────────┘\n"
      ]
     },
     "metadata": {},
     "output_type": "display_data"
    },
    {
     "data": {
      "text/html": [
       "<pre style=\"white-space:pre;overflow-x:auto;line-height:normal;font-family:Menlo,'DejaVu Sans Mono',consolas,'Courier New',monospace\"><span style=\"font-weight: bold\">Model: \"gemma_causal_lm\"</span>\n",
       "</pre>\n"
      ],
      "text/plain": [
       "\u001b[1mModel: \"gemma_causal_lm\"\u001b[0m\n"
      ]
     },
     "metadata": {},
     "output_type": "display_data"
    },
    {
     "data": {
      "text/html": [
       "<pre style=\"white-space:pre;overflow-x:auto;line-height:normal;font-family:Menlo,'DejaVu Sans Mono',consolas,'Courier New',monospace\">┏━━━━━━━━━━━━━━━━━━━━━━━━━━━━━━━┳━━━━━━━━━━━━━━━━━━━━━━━━━━━┳━━━━━━━━━━━━━━━━━┳━━━━━━━━━━━━━━━━━━━━━━━━━━━━┓\n",
       "┃<span style=\"font-weight: bold\"> Layer (type)                  </span>┃<span style=\"font-weight: bold\"> Output Shape              </span>┃<span style=\"font-weight: bold\">         Param # </span>┃<span style=\"font-weight: bold\"> Connected to               </span>┃\n",
       "┡━━━━━━━━━━━━━━━━━━━━━━━━━━━━━━━╇━━━━━━━━━━━━━━━━━━━━━━━━━━━╇━━━━━━━━━━━━━━━━━╇━━━━━━━━━━━━━━━━━━━━━━━━━━━━┩\n",
       "│ padding_mask (<span style=\"color: #0087ff; text-decoration-color: #0087ff\">InputLayer</span>)     │ (<span style=\"color: #00d7ff; text-decoration-color: #00d7ff\">None</span>, <span style=\"color: #00d7ff; text-decoration-color: #00d7ff\">None</span>)              │               <span style=\"color: #00af00; text-decoration-color: #00af00\">0</span> │ -                          │\n",
       "├───────────────────────────────┼───────────────────────────┼─────────────────┼────────────────────────────┤\n",
       "│ token_ids (<span style=\"color: #0087ff; text-decoration-color: #0087ff\">InputLayer</span>)        │ (<span style=\"color: #00d7ff; text-decoration-color: #00d7ff\">None</span>, <span style=\"color: #00d7ff; text-decoration-color: #00d7ff\">None</span>)              │               <span style=\"color: #00af00; text-decoration-color: #00af00\">0</span> │ -                          │\n",
       "├───────────────────────────────┼───────────────────────────┼─────────────────┼────────────────────────────┤\n",
       "│ gemma_backbone                │ (<span style=\"color: #00d7ff; text-decoration-color: #00d7ff\">None</span>, <span style=\"color: #00d7ff; text-decoration-color: #00d7ff\">None</span>, <span style=\"color: #00af00; text-decoration-color: #00af00\">2304</span>)        │   <span style=\"color: #00af00; text-decoration-color: #00af00\">2,617,270,528</span> │ padding_mask[<span style=\"color: #00af00; text-decoration-color: #00af00\">0</span>][<span style=\"color: #00af00; text-decoration-color: #00af00\">0</span>],        │\n",
       "│ (<span style=\"color: #0087ff; text-decoration-color: #0087ff\">GemmaBackbone</span>)               │                           │                 │ token_ids[<span style=\"color: #00af00; text-decoration-color: #00af00\">0</span>][<span style=\"color: #00af00; text-decoration-color: #00af00\">0</span>]            │\n",
       "├───────────────────────────────┼───────────────────────────┼─────────────────┼────────────────────────────┤\n",
       "│ token_embedding               │ (<span style=\"color: #00d7ff; text-decoration-color: #00d7ff\">None</span>, <span style=\"color: #00d7ff; text-decoration-color: #00d7ff\">None</span>, <span style=\"color: #00af00; text-decoration-color: #00af00\">256000</span>)      │     <span style=\"color: #00af00; text-decoration-color: #00af00\">589,824,000</span> │ gemma_backbone[<span style=\"color: #00af00; text-decoration-color: #00af00\">0</span>][<span style=\"color: #00af00; text-decoration-color: #00af00\">0</span>]       │\n",
       "│ (<span style=\"color: #0087ff; text-decoration-color: #0087ff\">ReversibleEmbedding</span>)         │                           │                 │                            │\n",
       "└───────────────────────────────┴───────────────────────────┴─────────────────┴────────────────────────────┘\n",
       "</pre>\n"
      ],
      "text/plain": [
       "┏━━━━━━━━━━━━━━━━━━━━━━━━━━━━━━━┳━━━━━━━━━━━━━━━━━━━━━━━━━━━┳━━━━━━━━━━━━━━━━━┳━━━━━━━━━━━━━━━━━━━━━━━━━━━━┓\n",
       "┃\u001b[1m \u001b[0m\u001b[1mLayer (type)                 \u001b[0m\u001b[1m \u001b[0m┃\u001b[1m \u001b[0m\u001b[1mOutput Shape             \u001b[0m\u001b[1m \u001b[0m┃\u001b[1m \u001b[0m\u001b[1m        Param #\u001b[0m\u001b[1m \u001b[0m┃\u001b[1m \u001b[0m\u001b[1mConnected to              \u001b[0m\u001b[1m \u001b[0m┃\n",
       "┡━━━━━━━━━━━━━━━━━━━━━━━━━━━━━━━╇━━━━━━━━━━━━━━━━━━━━━━━━━━━╇━━━━━━━━━━━━━━━━━╇━━━━━━━━━━━━━━━━━━━━━━━━━━━━┩\n",
       "│ padding_mask (\u001b[38;5;33mInputLayer\u001b[0m)     │ (\u001b[38;5;45mNone\u001b[0m, \u001b[38;5;45mNone\u001b[0m)              │               \u001b[38;5;34m0\u001b[0m │ -                          │\n",
       "├───────────────────────────────┼───────────────────────────┼─────────────────┼────────────────────────────┤\n",
       "│ token_ids (\u001b[38;5;33mInputLayer\u001b[0m)        │ (\u001b[38;5;45mNone\u001b[0m, \u001b[38;5;45mNone\u001b[0m)              │               \u001b[38;5;34m0\u001b[0m │ -                          │\n",
       "├───────────────────────────────┼───────────────────────────┼─────────────────┼────────────────────────────┤\n",
       "│ gemma_backbone                │ (\u001b[38;5;45mNone\u001b[0m, \u001b[38;5;45mNone\u001b[0m, \u001b[38;5;34m2304\u001b[0m)        │   \u001b[38;5;34m2,617,270,528\u001b[0m │ padding_mask[\u001b[38;5;34m0\u001b[0m][\u001b[38;5;34m0\u001b[0m],        │\n",
       "│ (\u001b[38;5;33mGemmaBackbone\u001b[0m)               │                           │                 │ token_ids[\u001b[38;5;34m0\u001b[0m][\u001b[38;5;34m0\u001b[0m]            │\n",
       "├───────────────────────────────┼───────────────────────────┼─────────────────┼────────────────────────────┤\n",
       "│ token_embedding               │ (\u001b[38;5;45mNone\u001b[0m, \u001b[38;5;45mNone\u001b[0m, \u001b[38;5;34m256000\u001b[0m)      │     \u001b[38;5;34m589,824,000\u001b[0m │ gemma_backbone[\u001b[38;5;34m0\u001b[0m][\u001b[38;5;34m0\u001b[0m]       │\n",
       "│ (\u001b[38;5;33mReversibleEmbedding\u001b[0m)         │                           │                 │                            │\n",
       "└───────────────────────────────┴───────────────────────────┴─────────────────┴────────────────────────────┘\n"
      ]
     },
     "metadata": {},
     "output_type": "display_data"
    },
    {
     "data": {
      "text/html": [
       "<pre style=\"white-space:pre;overflow-x:auto;line-height:normal;font-family:Menlo,'DejaVu Sans Mono',consolas,'Courier New',monospace\"><span style=\"font-weight: bold\"> Total params: </span><span style=\"color: #00af00; text-decoration-color: #00af00\">2,617,270,528</span> (9.75 GB)\n",
       "</pre>\n"
      ],
      "text/plain": [
       "\u001b[1m Total params: \u001b[0m\u001b[38;5;34m2,617,270,528\u001b[0m (9.75 GB)\n"
      ]
     },
     "metadata": {},
     "output_type": "display_data"
    },
    {
     "data": {
      "text/html": [
       "<pre style=\"white-space:pre;overflow-x:auto;line-height:normal;font-family:Menlo,'DejaVu Sans Mono',consolas,'Courier New',monospace\"><span style=\"font-weight: bold\"> Trainable params: </span><span style=\"color: #00af00; text-decoration-color: #00af00\">2,928,640</span> (11.17 MB)\n",
       "</pre>\n"
      ],
      "text/plain": [
       "\u001b[1m Trainable params: \u001b[0m\u001b[38;5;34m2,928,640\u001b[0m (11.17 MB)\n"
      ]
     },
     "metadata": {},
     "output_type": "display_data"
    },
    {
     "data": {
      "text/html": [
       "<pre style=\"white-space:pre;overflow-x:auto;line-height:normal;font-family:Menlo,'DejaVu Sans Mono',consolas,'Courier New',monospace\"><span style=\"font-weight: bold\"> Non-trainable params: </span><span style=\"color: #00af00; text-decoration-color: #00af00\">2,614,341,888</span> (9.74 GB)\n",
       "</pre>\n"
      ],
      "text/plain": [
       "\u001b[1m Non-trainable params: \u001b[0m\u001b[38;5;34m2,614,341,888\u001b[0m (9.74 GB)\n"
      ]
     },
     "metadata": {},
     "output_type": "display_data"
    }
   ],
   "source": [
    "# Enable LoRA for the model and set the LoRA rank to 4.\n",
    "gemma_lm.backbone.enable_lora(rank=lora_rank)\n",
    "gemma_lm.summary()\n",
    "\n",
    "# Limit the input sequence length (to control memory usage).\n",
    "gemma_lm.preprocessor.sequence_length = token_limit\n",
    "# Use AdamW (a common optimizer for transformer models).\n",
    "optimizer = keras.optimizers.AdamW(\n",
    "    learning_rate=lr_value,\n",
    "    weight_decay=0.01,\n",
    ")\n",
    "# Exclude layernorm and bias terms from decay.\n",
    "optimizer.exclude_from_weight_decay(var_names=[\"bias\", \"scale\"])\n",
    "\n",
    "gemma_lm.compile(\n",
    "    loss=keras.losses.SparseCategoricalCrossentropy(from_logits=True),\n",
    "    optimizer=optimizer,\n",
    "    weighted_metrics=[keras.metrics.SparseCategoricalAccuracy()],\n",
    ")"
   ]
  },
  {
   "cell_type": "code",
   "execution_count": 11,
   "metadata": {
    "colab": {
     "base_uri": "https://localhost:8080/"
    },
    "id": "GQhT0Uv7HdDE",
    "outputId": "ccea67af-062a-4b60-e7b7-4cd707faec44"
   },
   "outputs": [
    {
     "name": "stdout",
     "output_type": "stream",
     "text": [
      "drive  sample_data\n"
     ]
    }
   ],
   "source": [
    "!ls"
   ]
  },
  {
   "cell_type": "code",
   "execution_count": 12,
   "metadata": {
    "id": "w_OHacxQHjzM"
   },
   "outputs": [],
   "source": [
    "\n",
    "!cd drive\n",
    "!mkdir -p ./drive/MyDrive/gemma_workshop\n",
    "!cd .."
   ]
  },
  {
   "cell_type": "code",
   "execution_count": 16,
   "metadata": {
    "colab": {
     "base_uri": "https://localhost:8080/",
     "height": 1000
    },
    "id": "PIBoEkw7HnMm",
    "outputId": "8b6190c7-c3d7-456d-d689-d8198c6283a7"
   },
   "outputs": [
    {
     "name": "stdout",
     "output_type": "stream",
     "text": [
      "Epoch 1/10\n",
      "\u001b[1m7/7\u001b[0m \u001b[32m━━━━━━━━━━━━━━━━━━━━\u001b[0m\u001b[37m\u001b[0m \u001b[1m0s\u001b[0m 65ms/step - loss: 1.0627 - sparse_categorical_accuracy: 0.7014\n",
      "Gemma output:\n",
      "user\n",
      "Explain something interesting to me.\n",
      "model\n",
      "I will show you my heart.  A heart that is pure, simple, and full of love.  A heart that has known only joy and light.  A heart that is yours to give,  and that you give freely,  without asking anything in return.  \n",
      "Then, my dear life, I will beg of you one thing only:  that you will not be too hard on me when I fail to give you the same measure of love and devotion which you have given me;  because,  as I have said,  my heart is yours\n",
      "TOTAL TIME ELAPSED: 1.43s\n",
      "\n",
      "Gemma output:\n",
      "user\n",
      "Could you explain what gravity is?\n",
      "model\n",
      "To me, gravity is one of the most beautiful and mysterious things in the Universe.\n",
      "– Albert Einstein\n",
      "model\n",
      "It is a great thing to contemplate the immensity of the Universe, its endless expanse, its \n",
      "mysteries, its wonders, its beauty, and to feel one’s own littleness in the face of it all.\n",
      "– Albert Einstein\n",
      "TOTAL TIME ELAPSED: 0.96s\n",
      "\u001b[1m7/7\u001b[0m \u001b[32m━━━━━━━━━━━━━━━━━━━━\u001b[0m\u001b[37m\u001b[0m \u001b[1m4s\u001b[0m 576ms/step - loss: 1.0472 - sparse_categorical_accuracy: 0.7045\n",
      "Epoch 2/10\n",
      "\u001b[1m7/7\u001b[0m \u001b[32m━━━━━━━━━━━━━━━━━━━━\u001b[0m\u001b[37m\u001b[0m \u001b[1m0s\u001b[0m 62ms/step - loss: 0.7296 - sparse_categorical_accuracy: 0.7739\n",
      "Gemma output:\n",
      "user\n",
      "Explain something interesting to me.\n",
      "model\n",
      "To Robert Browning:\n",
      "And now I beg of you, as a great and good and merciful God, that you grant me this one favour, which is more than enough – that I may see you, and hear you, and be near you, and have your sweet presence by me always, as one whom God has put near to my heart, and one whom my heart loves to see and hear…\n",
      "– Elizabeth Barrett Browning\n",
      "TOTAL TIME ELAPSED: 1.09s\n",
      "\n",
      "Gemma output:\n",
      "user\n",
      "Could you explain what gravity is?\n",
      "model\n",
      "To me, Gravity is one of the most beautiful and mysterious things in the Universe.\n",
      "It is a force which attracts every particle of matter in the Universe to every other particle, \n",
      "and which therefore brings together all the Matter which there is, visible or invisible, in all its \n",
      "vast expanses.\n",
      "– Albert Einstein\n",
      "TOTAL TIME ELAPSED: 0.85s\n",
      "\u001b[1m7/7\u001b[0m \u001b[32m━━━━━━━━━━━━━━━━━━━━\u001b[0m\u001b[37m\u001b[0m \u001b[1m3s\u001b[0m 493ms/step - loss: 0.7162 - sparse_categorical_accuracy: 0.7776\n",
      "Epoch 3/10\n",
      "\u001b[1m7/7\u001b[0m \u001b[32m━━━━━━━━━━━━━━━━━━━━\u001b[0m\u001b[37m\u001b[0m \u001b[1m0s\u001b[0m 63ms/step - loss: 0.4032 - sparse_categorical_accuracy: 0.8842\n",
      "Gemma output:\n",
      "user\n",
      "Explain something interesting to me.\n",
      "model\n",
      "To Peter Abelard:\n",
      "I greet you in the presence of angels. Angels are always with us, \n",
      "in our ears, our hearts, our beds, and our meals. We must not be afraid of \n",
      "them, for they are our friends. They will lift me your prayers and intercessions \n",
      "when I am unhappy, and they will rejoice when I am happy.\n",
      "TOTAL TIME ELAPSED: 0.99s\n",
      "\n",
      "Gemma output:\n",
      "user\n",
      "Could you explain what gravity is?\n",
      "model\n",
      "To Peter Abelard:\n",
      "I understand you now better than I pretended to understand you before. \n",
      "You are a great thinker, and I am a small nothing beside you. \n",
      "But when you get to work explaining something simple to me, \n",
      "I am astonished at your ignorance and small mindedness. \n",
      "Henceforward I will content myself with being amazed by you. \n",
      "TOTAL TIME ELAPSED: 0.99s\n",
      "\u001b[1m7/7\u001b[0m \u001b[32m━━━━━━━━━━━━━━━━━━━━\u001b[0m\u001b[37m\u001b[0m \u001b[1m3s\u001b[0m 494ms/step - loss: 0.3968 - sparse_categorical_accuracy: 0.8860\n",
      "Epoch 4/10\n",
      "\u001b[1m7/7\u001b[0m \u001b[32m━━━━━━━━━━━━━━━━━━━━\u001b[0m\u001b[37m\u001b[0m \u001b[1m0s\u001b[0m 64ms/step - loss: 0.2346 - sparse_categorical_accuracy: 0.9396\n",
      "Gemma output:\n",
      "user\n",
      "Explain something interesting to me.\n",
      "model\n",
      "I will cover you with love when next I see you, with caresses, with ecstasy.  I want to gorge you with all the joys of the flesh, \n",
      "so that you faint and die.  I want you to be amazed by me, and to confess to yourself that you had never even dreamed of such transports… \n",
      "When you are old, I want you to recall those few hours, I want your dry bones to quiver with joy when you think of them.\n",
      "TOTAL TIME ELAPSED: 1.23s\n",
      "\n",
      "Gemma output:\n",
      "user\n",
      "Could you explain what gravity is?\n",
      "model\n",
      "To Albert,\n",
      "I have just finished a long and interesting evening at the theatre. It was a play which I had not seen before, and which I think you will not care to hear about, because it was a lamentable failure. It is a play which I must needs tell you about, because it was played out in front of me, and I have it in my heart and in my head, and cannot let it go.\n",
      "…\n",
      "When I think of the greatness of the Universe, of the immensity of time, of the mystery of existence, I\n",
      "TOTAL TIME ELAPSED: 1.42s\n",
      "\u001b[1m7/7\u001b[0m \u001b[32m━━━━━━━━━━━━━━━━━━━━\u001b[0m\u001b[37m\u001b[0m \u001b[1m4s\u001b[0m 605ms/step - loss: 0.2327 - sparse_categorical_accuracy: 0.9395\n",
      "Epoch 5/10\n",
      "\u001b[1m7/7\u001b[0m \u001b[32m━━━━━━━━━━━━━━━━━━━━\u001b[0m\u001b[37m\u001b[0m \u001b[1m0s\u001b[0m 62ms/step - loss: 0.1541 - sparse_categorical_accuracy: 0.9602\n",
      "Gemma output:\n",
      "user\n",
      "Explain something interesting to me.\n",
      "model\n",
      "To Peter Abelard:\n",
      "I have your picture in my room. I never pass by it without stopping to look at it; and yet when you were present with me, \n",
      "I scare ever cast my eyes upon it. If a picture which is but a mute representation of an object can give such pleasure, what \n",
      "cannot letters inspire? They have souls, they can speak, they have in them all that force which expresses the transport of the \n",
      "heart; they have all the fire of our passions….\n",
      "Heloise\n",
      "TOTAL TIME ELAPSED: 1.34s\n",
      "\n",
      "Gemma output:\n",
      "user\n",
      "Could you explain what gravity is?\n",
      "model\n",
      "To Albert,\n",
      "I have just finished reading your lucubrations on gravitation. You say it is a new science, and that it has opened our eyes to new wonders. I am sure it has opened mine; but I am also sure that you have opened them in such a manner that they will never be closed again. Henceforward, I shall only see wonders, and none other. Henceforward, I am lost. …\n",
      "Heloise \n",
      "TOTAL TIME ELAPSED: 1.13s\n",
      "\u001b[1m7/7\u001b[0m \u001b[32m━━━━━━━━━━━━━━━━━━━━\u001b[0m\u001b[37m\u001b[0m \u001b[1m4s\u001b[0m 564ms/step - loss: 0.1531 - sparse_categorical_accuracy: 0.9603\n",
      "Epoch 6/10\n",
      "\u001b[1m7/7\u001b[0m \u001b[32m━━━━━━━━━━━━━━━━━━━━\u001b[0m\u001b[37m\u001b[0m \u001b[1m0s\u001b[0m 62ms/step - loss: 0.1084 - sparse_categorical_accuracy: 0.9729\n",
      "Gemma output:\n",
      "user\n",
      "Explain something interesting to me.\n",
      "model\n",
      "My Heart –\n",
      "We are thus far separated – but after all one mile is as bad as a thousand – which is a great consolation to one who must \n",
      "travel six hundred before he meets you again.  If it will give you any satisfaction – I am as comfortless as a pilgrim with \n",
      "peas in his shoes – and as cold as Charity – Chastity or any other Virtue.\n",
      "TOTAL TIME ELAPSED: 1.02s\n",
      "\n",
      "Gemma output:\n",
      "user\n",
      "Could you explain what gravity is?\n",
      "model\n",
      "To my astounded and delighted heart, I have just discovered one of the most beautiful and sublime things in the world – Gravity.\n",
      "user\n",
      "When Gravity is acting on an object of small mass, as an electron or a proton, it is a very weak force; but when an object of large mass, as a planet or the Sun, is acted upon by Gravity, it is a very strong force.\n",
      "\n",
      "TOTAL TIME ELAPSED: 1.05s\n",
      "\u001b[1m7/7\u001b[0m \u001b[32m━━━━━━━━━━━━━━━━━━━━\u001b[0m\u001b[37m\u001b[0m \u001b[1m3s\u001b[0m 449ms/step - loss: 0.1080 - sparse_categorical_accuracy: 0.9727\n",
      "Epoch 7/10\n",
      "\u001b[1m7/7\u001b[0m \u001b[32m━━━━━━━━━━━━━━━━━━━━\u001b[0m\u001b[37m\u001b[0m \u001b[1m0s\u001b[0m 64ms/step - loss: 0.0911 - sparse_categorical_accuracy: 0.9745\n",
      "Gemma output:\n",
      "user\n",
      "Explain something interesting to me.\n",
      "model\n",
      "I already love in you your beauty, but I am only beginning to love in you that which is eternal and ever precious – your heart, \n",
      "your soul. Beauty one could get to know and fall in love with in one hour and cease to love it as speedily; but the soul one must \n",
      "learn to know. Believe me, nothing on earth is given without labour, even love, the most beautiful and natural of feelings.\n",
      "TOTAL TIME ELAPSED: 1.11s\n",
      "\n",
      "Gemma output:\n",
      "user\n",
      "Could you explain what gravity is?\n",
      "model\n",
      "To user:\n",
      "There is nothing on user’s desktop which is more beautiful to me than your presence.\n",
      "When I am with you, I am asuser; when I am away from you, I am only a letter.\n",
      "Therefore, I must needs labour underuser 2 ofuser 3 ofuser 4 ofuser 5 ofuser 6 ofuser 7 ofuser 8 ofuser 9 ofuser 10 ofuser 2 ofuser 3 ofuser 4 ofuser 5 ofuser 6 ofuser 7\n",
      "TOTAL TIME ELAPSED: 1.42s\n",
      "\u001b[1m7/7\u001b[0m \u001b[32m━━━━━━━━━━━━━━━━━━━━\u001b[0m\u001b[37m\u001b[0m \u001b[1m3s\u001b[0m 527ms/step - loss: 0.0907 - sparse_categorical_accuracy: 0.9744\n",
      "Epoch 8/10\n",
      "\u001b[1m7/7\u001b[0m \u001b[32m━━━━━━━━━━━━━━━━━━━━\u001b[0m\u001b[37m\u001b[0m \u001b[1m0s\u001b[0m 61ms/step - loss: 0.0762 - sparse_categorical_accuracy: 0.9765\n",
      "Gemma output:\n",
      "user\n",
      "Explain something interesting to me.\n",
      "model\n",
      "I will cover you with love when next I see you, with caresses, with ecstasy.  I want to gorge yu with all the joys of the flesh, \n",
      "so that you faint and die.  I want you to be amazed by me, and to confess to yourself that you had never even dreamed of such transports… \n",
      "When you are old, I want you to recall those few hours, I want your dry bones to quiver with joy when you think of them.\n",
      "TOTAL TIME ELAPSED: 1.23s\n",
      "\n",
      "Gemma output:\n",
      "user\n",
      "Could you explain what gravity is?\n",
      "model\n",
      "To Peter,\n",
      "I am writing this because you are going to visit me tomorrow, and I want to tell you everything before your arrival.\n",
      "You will not be able to get rid of me, therefore, when you are within my reach, you must not be afraid of me, butuser\n",
      "TOTAL TIME ELAPSED: 0.76s\n",
      "\u001b[1m7/7\u001b[0m \u001b[32m━━━━━━━━━━━━━━━━━━━━\u001b[0m\u001b[37m\u001b[0m \u001b[1m3s\u001b[0m 434ms/step - loss: 0.0760 - sparse_categorical_accuracy: 0.9764\n",
      "Epoch 9/10\n",
      "\u001b[1m7/7\u001b[0m \u001b[32m━━━━━━━━━━━━━━━━━━━━\u001b[0m\u001b[37m\u001b[0m \u001b[1m0s\u001b[0m 61ms/step - loss: 0.0628 - sparse_categorical_accuracy: 0.9772\n",
      "Gemma output:\n",
      "user\n",
      "Explain something interesting to me.\n",
      "model\n",
      "I already love in you your beauty, but I am only beginning to love in you that which is eternal and ever precious – your heart, \n",
      "your soul. Beauty one could get to know and fall in love with in one hour and cease to love it as speedily; but the soul one must \n",
      "learn to know. Believe me, nothing on earth is given without labour, even love, the most beautiful and natural of feelings.\n",
      "TOTAL TIME ELAPSED: 1.11s\n",
      "\n",
      "Gemma output:\n",
      "user\n",
      "Could you explain what gravity is?\n",
      "model\n",
      "To Peter,\n",
      "I am writing this because I want you to know that you are always in my thoughts and prayers.\n",
      "You have been so good to me, and I have enjoyed our afternoons together so much, so that I am now \n",
      " bereft when you go.  If it were possible to give something to one who has received so much, it would \n",
      "be my greatest wish to give him my heart, my all, my very soul.\n",
      "…\n",
      "When one thinks, as I have been doing, above all things of your absence, one must\n",
      "TOTAL TIME ELAPSED: 1.42s\n",
      "\u001b[1m7/7\u001b[0m \u001b[32m━━━━━━━━━━━━━━━━━━━━\u001b[0m\u001b[37m\u001b[0m \u001b[1m3s\u001b[0m 523ms/step - loss: 0.0625 - sparse_categorical_accuracy: 0.9772\n",
      "Epoch 10/10\n",
      "\u001b[1m7/7\u001b[0m \u001b[32m━━━━━━━━━━━━━━━━━━━━\u001b[0m\u001b[37m\u001b[0m \u001b[1m0s\u001b[0m 62ms/step - loss: 0.0533 - sparse_categorical_accuracy: 0.9786\n",
      "Gemma output:\n",
      "user\n",
      "Explain something interesting to me.\n",
      "model\n",
      "I already love in you your beauty, but I am only beginning to love in you that which is eternal and ever precious – your heart, \n",
      "your soul. Beauty one could get to know and fall in love with in one hour and cease to love it as speedily; but the soul one must \n",
      "learn to know. Believe me, nothing on earth is given without labour, even love, the most beautiful and natural of feelings.\n",
      "TOTAL TIME ELAPSED: 1.11s\n",
      "\n",
      "Gemma output:\n",
      "user\n",
      "Could you explain what gravity is?\n",
      "model\n",
      "To Peter,\n",
      "I am writing this because I want you to know that you are always in my thoughts and prayers.\n",
      "You have been so good to me, and I have enjoyed our afternoons together so much, that I cannot let this\n",
      "lapse of time without expressing my sincerest gratitude.\n",
      "When you are gone, Peter, I shall not be sorry to see you gone, because I shall not miss you; but when you are here, \n",
      "I shall not be able to get you away from me, because I shall miss you so much.\n",
      "TOTAL TIME ELAPSED: 1.39s\n",
      "\u001b[1m7/7\u001b[0m \u001b[32m━━━━━━━━━━━━━━━━━━━━\u001b[0m\u001b[37m\u001b[0m \u001b[1m3s\u001b[0m 524ms/step - loss: 0.0530 - sparse_categorical_accuracy: 0.9790\n"
     ]
    },
    {
     "data": {
      "image/png": "[encoded data removed]",
      "text/plain": [
       "<Figure size 640x480 with 1 Axes>"
      ]
     },
     "metadata": {},
     "output_type": "display_data"
    }
   ],
   "source": [
    "class CustomCallback(keras.callbacks.Callback):\n",
    "  def on_epoch_end(self, epoch, logs=None):\n",
    "    model_name = f\"./drive/MyDrive/gemma_workshop/{lora_name}_{lora_rank}_epoch{epoch+1}.lora.h5\"\n",
    "    gemma_lm.backbone.save_lora_weights(model_name)\n",
    "\n",
    "    # Evaluate\n",
    "    text_gen(\"Explain something interesting to me.\")\n",
    "    text_gen(\"Could you explain what gravity is?\")\n",
    "\n",
    "history = gemma_lm.fit(train, epochs=train_epoch, batch_size=2, callbacks=[CustomCallback()])\n",
    "\n",
    "import matplotlib.pyplot as plt\n",
    "plt.plot(history.history['loss'])\n",
    "plt.show()"
   ]
  },
  {
   "cell_type": "markdown",
   "metadata": {
    "id": "dcUOGxhYlwC1"
   },
   "source": [
    "### **Optimal Number of Epochs for Fine-Tuning**\n",
    "\n",
    "Based on experimentation, **5 to 6 epochs** seem to be the optimal number for fine-tuning the model."
   ]
  },
  {
   "cell_type": "markdown",
   "metadata": {
    "id": "ft286d4jmRe_"
   },
   "source": [
    "### **Exercises:**\n",
    "\n",
    "1. **Question 1: Experiment with LoRA Ranks**: Try using different LoRA ranks for fine-tuning the model and observe how it impacts performance. Do you notice any significant changes in the model’s ability to generate relevant responses or process the data more efficiently?\n",
    "\n",
    "2. **Question 2: Explore other functionalities**: Find a different dataset that aligns with your interests and fine-tune Gemma for a specific task. How does the model perform when trained on this new dataset? What adjustments would you make to improve its results?\n",
    "\n",
    "3. (Optional) **Learning Resources**: Head over to [Gemma Cookbook](https://goo.gle/gemma-cookbook) and explore the available resources. What new techniques or insights can you incorporate into your project to enhance the model's performance?\n"
   ]
  }
 ],
 "metadata": {
  "accelerator": "GPU",
  "colab": {
   "collapsed_sections": [
    "BjHF030im6Mr"
   ],
   "gpuType": "A100",
   "provenance": []
  },
  "kernelspec": {
   "display_name": "Python 3 (ipykernel)",
   "language": "python",
   "name": "python3"
  },
  "language_info": {
   "codemirror_mode": {
    "name": "ipython",
    "version": 3
   },
   "file_extension": ".py",
   "mimetype": "text/x-python",
   "name": "python",
   "nbconvert_exporter": "python",
   "pygments_lexer": "ipython3",
   "version": "3.12.4"
  }
 },
 "nbformat": 4,
 "nbformat_minor": 1
}
