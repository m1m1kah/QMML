{
 "cells": [
  {
   "cell_type": "code",
   "execution_count": 2,
   "id": "08375d8f",
   "metadata": {},
   "outputs": [],
   "source": [
    "import numpy as np"
   ]
  },
  {
   "cell_type": "code",
   "execution_count": 3,
   "id": "6ceff575",
   "metadata": {},
   "outputs": [],
   "source": [
    "portfolio = np.array([1.0, 1.3, 1.25, 1.45, 1.5])\n",
    "returns = portfolio[...,1:] / portfolio[...,0] - 1"
   ]
  },
  {
   "cell_type": "code",
   "execution_count": 4,
   "id": "00eb2247",
   "metadata": {},
   "outputs": [],
   "source": [
    "def pnl(portfolio: np.ndarray) -> np.ndarray:\n",
    "    \"Compute profit and loss as: final_price - initial_value\"\n",
    "    return portfolio[...,-1] - portfolio[...,0]\n",
    "\n",
    "def compute_returns(portfolio: np.ndarray) -> np.ndarray:\n",
    "    \"Returns an array [P_1/P_0, P_2/P_1, ...]\"\n",
    "    return portfolio[...,1:] / portfolio[...,:-1] - 1\n",
    "\n",
    "def compute_log_returns(portfolio: np.ndarray) -> np.ndarray:\n",
    "    return np.log(portfolio[...,1:] / portfolio[...,:-1])\n",
    "\n",
    "def compute_cumulative_returns(portfolio: np.ndarray) -> np.ndarray:\n",
    "    return portfolio[...,1:] / portfolio[...,0] - 1\n"
   ]
  },
  {
   "cell_type": "code",
   "execution_count": 7,
   "id": "6ccc0147",
   "metadata": {},
   "outputs": [
    {
     "name": "stdout",
     "output_type": "stream",
     "text": [
      "The profit of our portfolio is: 0.5\n",
      "\n",
      "The daily returns are: [ 0.3        -0.03846154  0.16        0.03448276]\n",
      "The log returns are: [ 0.26236426 -0.03922071  0.14842001  0.03390155]\n",
      "The cumualtive returns each day are: [0.3  0.25 0.45 0.5 ]\n",
      "The sum of the log returns is: 0.40546510810816433\n",
      "Inverting the transformation using the exponential function: 1.5\n"
     ]
    }
   ],
   "source": [
    "print(f\"The profit of our portfolio is: {pnl(portfolio)}\\n\")\n",
    "print(f\"The daily returns are: {compute_returns(portfolio)}\")\n",
    "print(f\"The log returns are: {compute_log_returns(portfolio)}\")\n",
    "print(f\"The cumualtive returns each day are: {compute_cumulative_returns(portfolio)}\")\n",
    "print(f\"The sum of the log returns is: {sum(r for r in compute_log_returns(portfolio))}\")\n",
    "print(f\"Inverting the transformation using the exponential function: {np.exp(sum(r for r in compute_log_returns(portfolio)))}\")"
   ]
  },
  {
   "cell_type": "code",
   "execution_count": null,
   "id": "2b2b0aae",
   "metadata": {},
   "outputs": [
    {
     "data": {
      "text/plain": [
       "4.1"
      ]
     },
     "execution_count": 12,
     "metadata": {},
     "output_type": "execute_result"
    }
   ],
   "source": [
    "def mean_return(returns: np.ndarray) -> np.ndarray:\n",
    "    return np.mean(returns, axis=-1)\n",
    "\n",
    "def volatiliy(returns: np.ndarray, ddof=1) -> np.ndarray:\n",
    "    \"Set ddof = 1 for sample and ddof = 0 for population\"\n",
    "    return np.std(returns, axis=-1, ddof=ddof)\n",
    "\n",
    "def compute_excess_returns(returns: np.ndarray, rf: float | np.ndarray) -> np.ndarray:\n",
    "\n",
    "    if np.isscalar(rf) or isinstance(rf, (int, float)):\n",
    "        \"\"\"TO DO: Adapt for time-varying risk-free rate\"\"\"\n",
    "        return returns - rf\n",
    "    else:\n",
    "        print(\"Only accepting single rf rate in v0\")\n",
    "        return None\n"
   ]
  },
  {
   "cell_type": "code",
   "execution_count": null,
   "id": "633430e9",
   "metadata": {},
   "outputs": [],
   "source": []
  },
  {
   "cell_type": "code",
   "execution_count": null,
   "id": "e6fed2a9",
   "metadata": {},
   "outputs": [],
   "source": [
    "def sharpe_ratio(returns: np.ndarray, rf: float | \n",
    "                 np.ndarray = 0.0, dt = 252, annualize = True) -> np.ndarray:\n",
    "    excess = compute_excess_returns(returns, rf)\n",
    "    mean_ex = mean_return(excess)\n",
    "    vol = volatiliy(excess)\n",
    "\n",
    "    with np.errstate(divide='ignore', invalid='ignore'):\n",
    "        sharpe = mean_ex / vol\n",
    "        sharpe = np.where(vol == 0, np.nan, sharpe)\n",
    "\n",
    "    if annualize:\n",
    "        sharpe *= np.sqrt(dt)\n",
    "    return sharpe"
   ]
  }
 ],
 "metadata": {
  "kernelspec": {
   "display_name": "MLClass",
   "language": "python",
   "name": "python3"
  },
  "language_info": {
   "codemirror_mode": {
    "name": "ipython",
    "version": 3
   },
   "file_extension": ".py",
   "mimetype": "text/x-python",
   "name": "python",
   "nbconvert_exporter": "python",
   "pygments_lexer": "ipython3",
   "version": "3.9.18"
  }
 },
 "nbformat": 4,
 "nbformat_minor": 5
}
