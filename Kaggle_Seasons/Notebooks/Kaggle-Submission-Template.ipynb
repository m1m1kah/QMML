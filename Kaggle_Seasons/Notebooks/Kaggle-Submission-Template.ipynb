{
  "nbformat": 4,
  "nbformat_minor": 0,
  "metadata": {
    "colab": {
      "provenance": [],
      "authorship_tag": "ABX9TyPuBnDr5QL+/V81mOM+Il8t",
      "include_colab_link": true
    },
    "kernelspec": {
      "name": "python3",
      "display_name": "Python 3"
    },
    "language_info": {
      "name": "python"
    }
  },
  "cells": [
    {
      "cell_type": "markdown",
      "metadata": {
        "id": "view-in-github",
        "colab_type": "text"
      },
      "source": [
        "<a href=\"https://colab.research.google.com/github/MaxKho/Kaggle/blob/main/Kaggle_Submission_Template.ipynb\" target=\"_parent\"><img src=\"https://colab.research.google.com/assets/colab-badge.svg\" alt=\"Open In Colab\"/></a>"
      ]
    },
    {
      "cell_type": "markdown",
      "source": [
        "# Imports and Installs"
      ],
      "metadata": {
        "id": "xcG9WwtPMQb3"
      }
    },
    {
      "cell_type": "markdown",
      "source": [
        "# Data Loading"
      ],
      "metadata": {
        "id": "M0xwGvVLMcgl"
      }
    },
    {
      "cell_type": "markdown",
      "source": [
        "## (Optional) Data Enhancement"
      ],
      "metadata": {
        "id": "o3ElaN-hf4Zo"
      }
    },
    {
      "cell_type": "markdown",
      "source": [
        "# (Optional) EDA (Explorative Data Analysis)"
      ],
      "metadata": {
        "id": "NolaSI-LNrvn"
      }
    },
    {
      "cell_type": "markdown",
      "source": [
        "# Data Preprocessing"
      ],
      "metadata": {
        "id": "q-WN9BCaLi6G"
      }
    },
    {
      "cell_type": "markdown",
      "source": [
        "## Data Cleaning"
      ],
      "metadata": {
        "id": "Hl9qGg6xLuAj"
      }
    },
    {
      "cell_type": "markdown",
      "source": [
        "## Encoding"
      ],
      "metadata": {
        "id": "0VNk3rHANA7V"
      }
    },
    {
      "cell_type": "markdown",
      "source": [
        "## (Optional) Feature Engineering"
      ],
      "metadata": {
        "id": "RaoW1sawNhXQ"
      }
    },
    {
      "cell_type": "markdown",
      "source": [
        "## Train-Test Split"
      ],
      "metadata": {
        "id": "DOUvmhhKOOeA"
      }
    },
    {
      "cell_type": "markdown",
      "source": [
        "## Normalisation"
      ],
      "metadata": {
        "id": "gbTvPMrFNPp-"
      }
    },
    {
      "cell_type": "markdown",
      "source": [
        "# Model Handling"
      ],
      "metadata": {
        "id": "YHs3ag34OiuD"
      }
    },
    {
      "cell_type": "markdown",
      "source": [
        "## Model Selection"
      ],
      "metadata": {
        "id": "2axEbRDYO-Yd"
      }
    },
    {
      "cell_type": "markdown",
      "source": [
        "## Model Evaluation"
      ],
      "metadata": {
        "id": "CNzDjxg6PTPi"
      }
    },
    {
      "cell_type": "code",
      "source": [
        "# Model training\n",
        "# Model predictions\n",
        "# Performance summary\n",
        "\n",
        "### Recommended: complete the model training and model prediction during cross-validation"
      ],
      "metadata": {
        "id": "OZ18c283XTr0"
      },
      "execution_count": null,
      "outputs": []
    },
    {
      "cell_type": "markdown",
      "source": [
        "## Model Tuning"
      ],
      "metadata": {
        "id": "tQIBLbk6PXBv"
      }
    },
    {
      "cell_type": "markdown",
      "source": [
        "### Hyperparameter Optimisation"
      ],
      "metadata": {
        "id": "HRhJubybPbF3"
      }
    },
    {
      "cell_type": "markdown",
      "source": [
        "### (Optional) Parameter Summary"
      ],
      "metadata": {
        "id": "E6u5CBo2gNIJ"
      }
    },
    {
      "cell_type": "markdown",
      "source": [
        "# (Optional) Ensemble Learning"
      ],
      "metadata": {
        "id": "3WqihjvTeQAt"
      }
    },
    {
      "cell_type": "markdown",
      "source": [
        "## Training"
      ],
      "metadata": {
        "id": "YdIR1v9chUTT"
      }
    },
    {
      "cell_type": "markdown",
      "source": [
        "## Evaluation"
      ],
      "metadata": {
        "id": "ie6Oo6EoheYY"
      }
    },
    {
      "cell_type": "markdown",
      "source": [
        "# Submission"
      ],
      "metadata": {
        "id": "MijyTZNkhXpb"
      }
    },
    {
      "cell_type": "markdown",
      "source": [
        "# (Optional) To-Do List"
      ],
      "metadata": {
        "id": "u8bRFZpwhpEE"
      }
    }
  ]
}