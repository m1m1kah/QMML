{
 "cells": [
  {
   "cell_type": "markdown",
   "id": "828327bd-c33d-4a8d-8d39-2927358a8496",
   "metadata": {},
   "source": [
    "### Python Fundamentals (OOP)"
   ]
  },
  {
   "cell_type": "code",
   "execution_count": 1,
   "id": "72f23313-4ffc-4d36-a9c0-9edace9da649",
   "metadata": {},
   "outputs": [
    {
     "name": "stdout",
     "output_type": "stream",
     "text": [
      "Buster\n",
      "Woof\n"
     ]
    }
   ],
   "source": [
    "# Here's an explicit example\n",
    "dog_name = 'Buster'\n",
    "print(dog_name)\n",
    "print('Woof')"
   ]
  },
  {
   "cell_type": "code",
   "execution_count": 3,
   "id": "11187715-5b73-4b01-a75a-e2fc8471c06e",
   "metadata": {},
   "outputs": [
    {
     "name": "stdout",
     "output_type": "stream",
     "text": [
      "John\n",
      "Butterfly\n",
      "John says woof!\n",
      "Butterfly says woof!\n",
      "Cross between Labrador and XL_bully\n"
     ]
    }
   ],
   "source": [
    "class Dog:\n",
    "    def __init__(self, name, breed):\n",
    "        self.name = name\n",
    "        self.breed = breed\n",
    "    \n",
    "    def woof(self):\n",
    "        return(f'{self.name} says woof!')\n",
    "    \n",
    "    def __add__(self, other):\n",
    "        return (f'Cross between {self.breed} and {other.breed}')\n",
    "\n",
    "\n",
    "labrador = Dog('John', 'Labrador')\n",
    "xl_bully = Dog('Butterfly', 'XL_bully')\n",
    "\n",
    "print(labrador.name)\n",
    "print(xl_bully.name)\n",
    "print(labrador.woof())\n",
    "print(xl_bully.woof())\n",
    "\n",
    "print(labrador + xl_bully)"
   ]
  },
  {
   "cell_type": "code",
   "execution_count": 4,
   "id": "c6b54400-2d7f-4a00-834b-9ed3d81667ca",
   "metadata": {},
   "outputs": [],
   "source": [
    "# Now task class with creating a class to represent records of student grades\n",
    "# Say we have the following code\n",
    "student_1_name = 'Alice'\n",
    "student_1_age = 20\n",
    "student_1_grades = [90, 85, 88]  # A list of grades\n",
    "\n",
    "def calculate_average(grades):\n",
    "    return sum(grades) / len(grades)\n",
    "\n",
    "student_1_average_grade = calculate_average(student_1_grades)\n",
    "\n",
    "# How would this process look for 10 students?\n",
    "student_2_name = 'Adam'\n",
    "student_2_age = 20\n",
    "student_2_grades = [75, 95, 60] \n",
    "student_2_average_grades = calculate_average(student_2_grades)\n",
    "\n",
    "# Now I task you to write a class which can handle this behaviour alot faster.\n",
    "\n",
    "class Student:\n",
    "    def __init__(self, name, age, grades):\n",
    "        self.name = name\n",
    "        self.age = age\n",
    "        self.grades = grades\n",
    "\n",
    "    def calculate_average(self):\n",
    "        return sum(self.grades) / len(self.grades)\n",
    "\n",
    "student_1 = Student('Alice', 20, [90, 85, 88])\n",
    "student_2 = Student('Adam', 20, [75, 95, 60] )"
   ]
  },
  {
   "cell_type": "code",
   "execution_count": 5,
   "id": "94fa20d1-0ee7-417a-937d-69a87dcab972",
   "metadata": {},
   "outputs": [],
   "source": [
    "# A class serves as a way to create objects in python. An object is just something which holds data\n",
    "# and functions which operate on that data. \n",
    "# The whole point of a class is that it allows us to create reusable pieces of code.\n",
    "\n",
    "# There are two aspects to the Class, the __init__ or initialisation of the class and the methods of the \n",
    "# parts where there is a def. \n",
    "# Starting with the def we can define a function, which you can think of in the same way as a mathematical\n",
    "# function, in that you will give it some input and modify it in some way and get an output.\n",
    "\n",
    "# We first write class and the name of the class\n",
    "class Value:\n",
    "    # This is the intialisation method it will initialise the Value object with the data passed to it.\n",
    "    def __init__(self, data, _children=(), _op='', label=''):\n",
    "        self.data = data\n",
    "        self.grad = 0.0\n",
    "        self._prev = set(_children)\n",
    "        self._op = _op\n",
    "        self.label = label\n",
    "\n",
    "    def __repr__(self):\n",
    "        return f\"Value(data={self.data})\"\n",
    "\n",
    "    def __add__(self, other):\n",
    "        out = Value(self.data + other.data, (self, other), '+')\n",
    "        return out\n",
    "\n",
    "    def __mul__(self, other):\n",
    "        out = Value(self.data * other.data, (self, other), '*')\n",
    "        return out"
   ]
  },
  {
   "cell_type": "markdown",
   "id": "a1c21f39-0cc5-4205-9503-cbb4df9b3c7b",
   "metadata": {},
   "source": [
    "# Function Derivatives\n"
   ]
  },
  {
   "cell_type": "code",
   "execution_count": 6,
   "id": "d18ca670-b152-4ec2-bf70-0605024bf917",
   "metadata": {},
   "outputs": [],
   "source": [
    "import numpy as np\n",
    "import math\n",
    "import matplotlib.pyplot as plt\n",
    "%matplotlib inline"
   ]
  },
  {
   "cell_type": "code",
   "execution_count": 7,
   "id": "28ff150d-02e0-49b6-bd77-00699c2d15c7",
   "metadata": {},
   "outputs": [],
   "source": [
    "# lets define a simple function\n",
    "def f(x):\n",
    "    return 3*x**2 - 4*x + 5"
   ]
  },
  {
   "cell_type": "code",
   "execution_count": 8,
   "id": "d8703e6a-54a2-48c2-9439-c9c40947171f",
   "metadata": {},
   "outputs": [
    {
     "data": {
      "text/plain": [
       "20.0"
      ]
     },
     "execution_count": 8,
     "metadata": {},
     "output_type": "execute_result"
    }
   ],
   "source": [
    "f(3.0)"
   ]
  },
  {
   "cell_type": "code",
   "execution_count": 9,
   "id": "12ac4e53-a219-4235-8c03-42d268993ccf",
   "metadata": {},
   "outputs": [],
   "source": [
    "# We can plot this function to get its shape, it will be a parabola (quadratic)\n",
    "xs = np.arange(-5, 5, 0.25)\n",
    "# This creates a numpy array of numbers from -5 to 5, not including 5, with a step size of 0.25\n",
    "# We can also call the function on the array of xs to get a list of ys\n",
    "ys = f(xs)"
   ]
  },
  {
   "cell_type": "code",
   "execution_count": 11,
   "id": "1835bd9f-55d0-41ae-bd5f-ca87e7f694b9",
   "metadata": {},
   "outputs": [
    {
     "data": {
      "image/png": "[encoded data removed]",
      "text/plain": [
       "<Figure size 640x480 with 1 Axes>"
      ]
     },
     "metadata": {},
     "output_type": "display_data"
    }
   ],
   "source": [
    "plt.plot(xs, ys)\n",
    "plt.show()"
   ]
  },
  {
   "cell_type": "code",
   "execution_count": 12,
   "id": "4fb3b18f-f325-4532-a252-e2edc4f9eb34",
   "metadata": {},
   "outputs": [
    {
     "data": {
      "text/plain": [
       "20.001400030000006"
      ]
     },
     "execution_count": 12,
     "metadata": {},
     "output_type": "execute_result"
    }
   ],
   "source": [
    "h = 0.0001\n",
    "x = 3.0\n",
    "\n",
    "# Before running examine the graph and ask do you expect the output to increase or decrease\n",
    "f(x+h)"
   ]
  },
  {
   "cell_type": "code",
   "execution_count": 13,
   "id": "74cfd60a-e45e-43dd-97b0-fc927181061d",
   "metadata": {},
   "outputs": [
    {
     "data": {
      "text/plain": [
       "0.0014000300000063248"
      ]
     },
     "execution_count": 13,
     "metadata": {},
     "output_type": "execute_result"
    }
   ],
   "source": [
    "# This tells us how much the function responded by\n",
    "f(x+h) - f(x)"
   ]
  },
  {
   "cell_type": "code",
   "execution_count": 14,
   "id": "bb8944db-7e40-44b1-8880-0a3400eab2b4",
   "metadata": {},
   "outputs": [
    {
     "data": {
      "text/plain": [
       "14.000300000063248"
      ]
     },
     "execution_count": 14,
     "metadata": {},
     "output_type": "execute_result"
    }
   ],
   "source": [
    "# We the normalise by h (rise over run), to get the slope\n",
    "(f(x+h) - f(x)) / h\n",
    "# The number gotten is just a numerical approximation of the derivative. \n",
    "# Due to the way computers handle numbers if we make H very small we get 0\n",
    "# QUESTION: What happens if we keep reducing size of 0 - Explore effects of floating point integers"
   ]
  },
  {
   "cell_type": "code",
   "execution_count": 15,
   "id": "f21d8755-3012-4b3d-8599-ce646bad2c80",
   "metadata": {},
   "outputs": [
    {
     "data": {
      "text/plain": [
       "-21.999700000066014"
      ]
     },
     "execution_count": 15,
     "metadata": {},
     "output_type": "execute_result"
    }
   ],
   "source": [
    "# Now what about the slope at x=-3 and what is the sign of the slope?\n",
    "h = 0.0001\n",
    "x = -3.0\n",
    "\n",
    "# Before running examine the graph and ask do you expect the output to increase or decrease\n",
    "(f(x+h) - f(x)) / h"
   ]
  },
  {
   "cell_type": "code",
   "execution_count": 16,
   "id": "b1006ba5-296a-445d-984f-e93686e04aba",
   "metadata": {},
   "outputs": [
    {
     "data": {
      "text/plain": [
       "2.999378523327323e-06"
      ]
     },
     "execution_count": 16,
     "metadata": {},
     "output_type": "execute_result"
    }
   ],
   "source": [
    "# Now what about the slope at around 0 and what is the sign of the slope?\n",
    "h = 0.000001\n",
    "x = 2/3\n",
    "\n",
    "# Before running examine the graph and ask do you expect the output to increase or decrease\n",
    "(f(x+h) - f(x)) / h"
   ]
  },
  {
   "cell_type": "code",
   "execution_count": 17,
   "id": "fc501582-1569-4d42-bc1e-76070bc78ac9",
   "metadata": {},
   "outputs": [
    {
     "name": "stdout",
     "output_type": "stream",
     "text": [
      "4.0\n"
     ]
    }
   ],
   "source": [
    "# Increase the complexity of the function and we will compute the derivative of this function using a similar method to above\n",
    "# This is a function of 3 inputs a,b,c\n",
    "a = 2.0\n",
    "b = -3.0\n",
    "c = 10.0\n",
    "d = a*b + c\n",
    "print(d)"
   ]
  },
  {
   "cell_type": "code",
   "execution_count": 18,
   "id": "df6f9527-b337-45f5-b8b9-59f295eac6fe",
   "metadata": {},
   "outputs": [
    {
     "name": "stdout",
     "output_type": "stream",
     "text": [
      "d1 4.0\n",
      "d2 3.999699999999999\n",
      "slope -3.000000000010772\n"
     ]
    }
   ],
   "source": [
    "h = 0.0001\n",
    "\n",
    "# inputs\n",
    "# This is point a,b,c at which we will evaluate the derivative of d w.r.t to the 3 inputs. \n",
    "a = 2.0\n",
    "b = -3.0\n",
    "c = 10.0\n",
    "\n",
    "d1 = a*b + c\n",
    "\n",
    "a += h\n",
    "d2 = a*b + c\n",
    "\n",
    "print('d1', d1)\n",
    "print('d2', d2)\n",
    "# Pause here to think about what will be printed out\n",
    "# Will d2 be large or smaller than d1?\n",
    "\n",
    "# Comment out the next line and ask people what sign the derivative will be\n",
    "print('slope', (d2 - d1) / h)\n",
    "\n",
    "# Do the same for b and c. b will make the derivative 2 (a) and c will make the derivative 1 as a and b are not affected by c"
   ]
  },
  {
   "cell_type": "code",
   "execution_count": null,
   "id": "6a28ff21-d99d-4ebf-b4f0-2ebda8e966fc",
   "metadata": {},
   "outputs": [],
   "source": []
  }
 ],
 "metadata": {
  "kernelspec": {
   "display_name": "Python 3 (ipykernel)",
   "language": "python",
   "name": "python3"
  },
  "language_info": {
   "codemirror_mode": {
    "name": "ipython",
    "version": 3
   },
   "file_extension": ".py",
   "mimetype": "text/x-python",
   "name": "python",
   "nbconvert_exporter": "python",
   "pygments_lexer": "ipython3",
   "version": "3.12.4"
  }
 },
 "nbformat": 4,
 "nbformat_minor": 5
}
