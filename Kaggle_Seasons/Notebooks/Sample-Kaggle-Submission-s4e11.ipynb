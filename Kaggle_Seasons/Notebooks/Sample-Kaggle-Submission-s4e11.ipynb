{
  "cells": [
    {
      "cell_type": "markdown",
      "source": [
        "# Imports and Installs"
      ],
      "metadata": {
        "id": "iHAQoYStt3wt"
      }
    },
    {
      "cell_type": "code",
      "execution_count": null,
      "metadata": {
        "id": "XEeFZ5E0tWgA"
      },
      "outputs": [],
      "source": [
        "import pandas as pd\n",
        "import numpy as np\n",
        "from sklearn.preprocessing import OneHotEncoder\n",
        "from sklearn.model_selection import train_test_split, StratifiedKFold\n",
        "from sklearn.metrics import accuracy_score\n",
        "from sklearn.linear_model import LogisticRegression"
      ]
    },
    {
      "cell_type": "markdown",
      "source": [
        "# Data Loading"
      ],
      "metadata": {
        "id": "7-fPUHkAuC-m"
      }
    },
    {
      "cell_type": "code",
      "execution_count": null,
      "metadata": {
        "id": "Pg9TW9xttWgC"
      },
      "outputs": [],
      "source": [
        "data = pd.read_csv('train.csv')\n",
        "test_data = pd.read_csv('test.csv')"
      ]
    },
    {
      "cell_type": "code",
      "execution_count": null,
      "metadata": {
        "id": "1sKa8ZfctWgD"
      },
      "outputs": [],
      "source": [
        "data = data.drop(columns=['Name', 'id'])\n",
        "test_data = test_data.drop(columns=['Name'])"
      ]
    },
    {
      "cell_type": "markdown",
      "source": [
        "# Data Preprocessing"
      ],
      "metadata": {
        "id": "tdi9nyzmuHhf"
      }
    },
    {
      "cell_type": "markdown",
      "source": [
        "## Data Cleaning"
      ],
      "metadata": {
        "id": "hLAZQ_PbyeXr"
      }
    },
    {
      "cell_type": "code",
      "source": [
        "for d in [data, test_data]:\n",
        "  for column in d.columns:\n",
        "    if d.isna().sum()[column] > 0:\n",
        "      mode_value = d[column].dropna().mode()[0]\n",
        "      d[column].fillna(mode_value, inplace=True)"
      ],
      "metadata": {
        "colab": {
          "base_uri": "https://localhost:8080/"
        },
        "id": "09OFHUTGydnm",
        "outputId": "7e2bef49-9ff9-41b5-c0cd-59b49973ec6f"
      },
      "execution_count": null,
      "outputs": [
        {
          "output_type": "stream",
          "name": "stderr",
          "text": [
            "<ipython-input-278-d28dd92aa4c8>:5: FutureWarning: A value is trying to be set on a copy of a DataFrame or Series through chained assignment using an inplace method.\n",
            "The behavior will change in pandas 3.0. This inplace method will never work because the intermediate object on which we are setting values always behaves as a copy.\n",
            "\n",
            "For example, when doing 'df[col].method(value, inplace=True)', try using 'df.method({col: value}, inplace=True)' or df[col] = df[col].method(value) instead, to perform the operation inplace on the original object.\n",
            "\n",
            "\n",
            "  d[column].fillna(mode_value, inplace=True)\n"
          ]
        }
      ]
    },
    {
      "cell_type": "markdown",
      "source": [
        "## Encoding"
      ],
      "metadata": {
        "id": "vOXQRqwe3m21"
      }
    },
    {
      "cell_type": "code",
      "source": [
        "nominal_cols = data.select_dtypes(include=['object', 'category']).columns.tolist()\n",
        "ohe = OneHotEncoder(sparse_output=False, handle_unknown='ignore')\n",
        "data_ohe = pd.DataFrame(ohe.fit_transform(data[nominal_cols]), columns=ohe.get_feature_names_out(nominal_cols), index=data.index)\n",
        "test_data_ohe = pd.DataFrame(ohe.transform(test_data[nominal_cols]), columns=ohe.get_feature_names_out(nominal_cols), index=test_data.index)\n",
        "data = data.drop(columns=nominal_cols).join(data_ohe)\n",
        "test_data = test_data.drop(columns=nominal_cols).join(test_data_ohe)"
      ],
      "metadata": {
        "id": "9-95L7hy3yRe"
      },
      "execution_count": null,
      "outputs": []
    },
    {
      "cell_type": "markdown",
      "source": [
        "## Train-Test Split"
      ],
      "metadata": {
        "id": "kSylY3SXA5UX"
      }
    },
    {
      "cell_type": "code",
      "execution_count": null,
      "metadata": {
        "id": "SUjyZHMltWgN"
      },
      "outputs": [],
      "source": [
        "# Train-test split already performed by Kaggle\n",
        "X_train = data.drop(columns=[\"Depression\"])\n",
        "y_train = data['Depression']\n",
        "X_test = test_data"
      ]
    },
    {
      "cell_type": "markdown",
      "source": [
        "## Normalisation"
      ],
      "metadata": {
        "id": "xauFvH5ZBFxi"
      }
    },
    {
      "cell_type": "code",
      "source": [
        "for col in X_train.columns:\n",
        "  if col not in nominal_cols:\n",
        "    mu = X_train[col].mean()\n",
        "    sigma = X_train[col].std()\n",
        "    X_train[col] = (X_train[col] - mu) / sigma\n",
        "    X_test[col] = (X_test[col] - mu) / sigma"
      ],
      "metadata": {
        "id": "xeTjG26bBG-H"
      },
      "execution_count": null,
      "outputs": []
    },
    {
      "cell_type": "markdown",
      "source": [
        "# Model Handling"
      ],
      "metadata": {
        "id": "Tnc7eOs4BXtC"
      }
    },
    {
      "cell_type": "markdown",
      "source": [
        "## Model Selection"
      ],
      "metadata": {
        "id": "fTp6cughBspK"
      }
    },
    {
      "cell_type": "code",
      "source": [
        "model = LogisticRegression(random_state=42)"
      ],
      "metadata": {
        "id": "VGu3pxqwBYpr"
      },
      "execution_count": null,
      "outputs": []
    },
    {
      "cell_type": "markdown",
      "source": [
        "## Model Evaluation"
      ],
      "metadata": {
        "id": "ze0u3wOZB1Gp"
      }
    },
    {
      "cell_type": "code",
      "source": [
        "def cross_validate(model, X_train, y_train, cv=5):\n",
        "  skf = StratifiedKFold(n_splits=cv, shuffle=True, random_state=42)\n",
        "  accuracy_scores = []\n",
        "\n",
        "  for train_index, test_index in skf.split(X_train, y_train):\n",
        "  # Model training\n",
        "      X_train_fold, X_test_fold = X_train.iloc[train_index], X_train.iloc[test_index]\n",
        "      y_train_fold, y_test_fold = y_train.iloc[train_index], y_train.iloc[test_index]\n",
        "      model.fit(X_train_fold, y_train_fold)\n",
        "\n",
        "  # Model predictions\n",
        "      y_pred = model.predict(X_test_fold)\n",
        "      accuracy = accuracy_score(y_test_fold, y_pred)\n",
        "      accuracy_scores.append(accuracy)\n",
        "\n",
        "  # Performance summary\n",
        "  return np.mean(accuracy_scores)\n",
        "\n",
        "cross_validate(model, X_train, y_train)"
      ],
      "metadata": {
        "colab": {
          "base_uri": "https://localhost:8080/"
        },
        "id": "KneINkCgB2Qr",
        "outputId": "52cf6ca8-f93c-4d4d-87e7-d0457a96131f"
      },
      "execution_count": null,
      "outputs": [
        {
          "output_type": "execute_result",
          "data": {
            "text/plain": [
              "0.9382871357498223"
            ]
          },
          "metadata": {},
          "execution_count": 283
        }
      ]
    },
    {
      "cell_type": "markdown",
      "source": [
        "## Model Tuning"
      ],
      "metadata": {
        "id": "A2DGwqTeI5bp"
      }
    },
    {
      "cell_type": "markdown",
      "source": [
        "### Hyperparameter Tuning"
      ],
      "metadata": {
        "id": "he4Gd6nnI83I"
      }
    },
    {
      "cell_type": "code",
      "source": [
        "params = {\n",
        "    'max_iter': 1000,\n",
        "    'class_weight': 'balanced'\n",
        "    }"
      ],
      "metadata": {
        "id": "q9Df4CzIJEDR"
      },
      "execution_count": null,
      "outputs": []
    },
    {
      "cell_type": "markdown",
      "source": [
        "### Re-evaluation"
      ],
      "metadata": {
        "id": "xOVFv0XBKCeA"
      }
    },
    {
      "cell_type": "code",
      "source": [
        "model_ht = LogisticRegression(**params)\n",
        "cross_validate(model, X_train, y_train)"
      ],
      "metadata": {
        "colab": {
          "base_uri": "https://localhost:8080/"
        },
        "id": "Pki0VFN0J9Eg",
        "outputId": "f6e58d64-b5c4-4a6e-bb52-b6e284ad6e28"
      },
      "execution_count": null,
      "outputs": [
        {
          "output_type": "execute_result",
          "data": {
            "text/plain": [
              "0.9382871357498223"
            ]
          },
          "metadata": {},
          "execution_count": 285
        }
      ]
    },
    {
      "cell_type": "markdown",
      "source": [
        "# Submission"
      ],
      "metadata": {
        "id": "Dodqhfg5Cycx"
      }
    },
    {
      "cell_type": "code",
      "execution_count": null,
      "metadata": {
        "id": "WJ7uDY-BtWgO"
      },
      "outputs": [],
      "source": [
        "# Without hyperparameter tuning\n",
        "model.fit(X_train, y_train)\n",
        "test_predictions = model.predict(X_test.drop(columns=['id']))\n",
        "submission = pd.DataFrame({'id': X_test[\"id\"], 'Depression': test_predictions})\n",
        "submission.to_csv('basic_submission.csv', index=False)"
      ]
    },
    {
      "cell_type": "code",
      "source": [
        "# With hyperparamter tuning\n",
        "model_ht.fit(X_train, y_train)\n",
        "test_predictions = model_ht.predict(X_test.drop(columns=['id']))\n",
        "submission = pd.DataFrame({'id': X_test[\"id\"], 'Depression': test_predictions})\n",
        "submission.to_csv('tuned_submission.csv', index=False)"
      ],
      "metadata": {
        "id": "IV6KCbj0QIfx"
      },
      "execution_count": null,
      "outputs": []
    }
  ],
  "metadata": {
    "kernelspec": {
      "display_name": "Python 3",
      "language": "python",
      "name": "python3"
    },
    "language_info": {
      "codemirror_mode": {
        "name": "ipython",
        "version": 3
      },
      "file_extension": ".py",
      "mimetype": "text/x-python",
      "name": "python",
      "nbconvert_exporter": "python",
      "pygments_lexer": "ipython3",
      "version": "3.10.10"
    },
    "colab": {
      "provenance": []
    }
  },
  "nbformat": 4,
  "nbformat_minor": 0
}