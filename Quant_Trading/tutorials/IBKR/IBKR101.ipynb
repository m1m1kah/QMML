{
 "cells": [
  {
   "cell_type": "markdown",
   "id": "0a4b3cf9",
   "metadata": {},
   "source": [
    "## Overview\n",
    "The ib_async library is a Python wrapper for Interactive Brokers' TWS (Trader Workstation) API. It allows you to:\n",
    "\n",
    "- Get real-time and historical market data\n",
    "- Place and manage orders\n",
    "- Access account information\n",
    "- Build automated trading strategies\n",
    "\n",
    "### Esentials\n",
    "\n",
    "To begin, in any TWS API program you’ll always see two main classes\n",
    "\n",
    "- EClient: used for outgoing messages which are sent from the API program to TWS or the IB Gateway\n",
    "- EWrapper: used to handle incoming messages from the Interactive Brokers server through TWS or IB Gateway"
   ]
  },
  {
   "cell_type": "code",
   "execution_count": 1,
   "id": "5ac7f469",
   "metadata": {},
   "outputs": [
    {
     "data": {
      "text/plain": [
       "<IB connected to 127.0.0.1:7497 clientId=0>"
      ]
     },
     "execution_count": 1,
     "metadata": {},
     "output_type": "execute_result"
    },
    {
     "name": "stderr",
     "output_type": "stream",
     "text": [
      "Error 1100, reqId -1: Connectivity between IBKR and Trader Workstation has been lost.\n",
      "Error 1102, reqId -1: Connectivity between IBKR and Trader Workstation has been restored - data maintained. All data farms are connected: usfarm.nj; hfarm; jfarm; usfuture; cashfarm; eufarmnj; usfarm; euhmds; fundfarm; ushmds; secdefil.\n",
      "Error 1100, reqId -1: Connectivity between IBKR and Trader Workstation has been lost.\n",
      "Error 1102, reqId -1: Connectivity between IBKR and Trader Workstation has been restored - data maintained. All data farms are connected: usfarm.nj; hfarm; jfarm; usfuture; cashfarm; eufarmnj; usfarm; euhmds; fundfarm; ushmds; secdefil.\n",
      "Error 1100, reqId -1: Connectivity between IBKR and Trader Workstation has been lost.\n",
      "Error 1102, reqId -1: Connectivity between IBKR and Trader Workstation has been restored - data maintained. All data farms are connected: usfarm.nj; hfarm; jfarm; usfuture; cashfarm; eufarmnj; usfarm; euhmds; fundfarm; ushmds; secdefil.\n",
      "Error 1100, reqId -1: Connectivity between IBKR and Trader Workstation has been lost.\n",
      "Error 1102, reqId -1: Connectivity between IBKR and Trader Workstation has been restored - data maintained. All data farms are connected: usfarm.nj; hfarm; jfarm; usfuture; cashfarm; eufarmnj; usfarm; euhmds; fundfarm; ushmds; secdefil.\n",
      "Error 1100, reqId -1: Connectivity between IBKR and Trader Workstation has been lost.\n",
      "Error 1102, reqId -1: Connectivity between IBKR and Trader Workstation has been restored - data maintained. All data farms are connected: usfarm.nj; hfarm; jfarm; usfuture; cashfarm; eufarmnj; usfarm; euhmds; fundfarm; ushmds; secdefil.\n",
      "Error 1100, reqId -1: Connectivity between IBKR and Trader Workstation has been lost.\n",
      "Error 1102, reqId -1: Connectivity between IBKR and Trader Workstation has been restored - data maintained. All data farms are connected: usfarm.nj; hfarm; jfarm; usfuture; cashfarm; eufarmnj; usfarm; euhmds; fundfarm; ushmds; secdefil.\n",
      "Error 1100, reqId -1: Connectivity between IBKR and Trader Workstation has been lost.\n",
      "Error 1100, reqId -1: Connectivity between IBKR and Trader Workstation has been lost.\n",
      "Peer closed connection.\n"
     ]
    }
   ],
   "source": [
    "# %pip install ib_async # Requires python 3.10>=\n",
    "\n",
    "from ib_async import *\n",
    "util.startLoop()\n",
    "ib = IB()\n",
    "ib.connect(port=7497,clientId=0) # Connect to port 7497 for paper trading"
   ]
  },
  {
   "cell_type": "code",
   "execution_count": 5,
   "id": "308b6677",
   "metadata": {},
   "outputs": [],
   "source": [
    "from ibapi.client import *\n",
    "from ibapi.wrapper import *\n",
    "import time\n",
    "import threading"
   ]
  },
  {
   "cell_type": "code",
   "execution_count": 6,
   "id": "ae1b1445",
   "metadata": {},
   "outputs": [],
   "source": [
    "class TestApp(EClient, EWrapper):\n",
    "    def __init__(self):\n",
    "        EClient.__init__(self, self)\n",
    "    \n",
    "\n",
    "    def nextValidid(self, orderId):\n",
    "        self.orderId = orderId\n",
    "    \n",
    "    def nextId(self):\n",
    "        self.orderId += 1\n",
    "        return self.orderId"
   ]
  },
  {
   "cell_type": "markdown",
   "id": "00e1275d",
   "metadata": {},
   "source": [
    "Trading Ports:\n",
    "\n",
    "- Live Trading: port = 7496\n",
    "- Paper Trading: port = 7497"
   ]
  },
  {
   "cell_type": "code",
   "execution_count": null,
   "id": "afd1edb0",
   "metadata": {},
   "outputs": [],
   "source": [
    "app = TestApp()\n",
    "app.connect(\"127.0.0.1\", port=7497, clientId=0)"
   ]
  },
  {
   "cell_type": "code",
   "execution_count": null,
   "id": "efb517d9",
   "metadata": {},
   "outputs": [],
   "source": [
    "threading.Thread(target=app.run).start()\n",
    "time.sleep(1) # allow our object to instantiate before we start sending requests"
   ]
  }
 ],
 "metadata": {
  "kernelspec": {
   "display_name": "Python 3",
   "language": "python",
   "name": "python3"
  },
  "language_info": {
   "codemirror_mode": {
    "name": "ipython",
    "version": 3
   },
   "file_extension": ".py",
   "mimetype": "text/x-python",
   "name": "python",
   "nbconvert_exporter": "python",
   "pygments_lexer": "ipython3",
   "version": "3.11.7"
  }
 },
 "nbformat": 4,
 "nbformat_minor": 5
}
