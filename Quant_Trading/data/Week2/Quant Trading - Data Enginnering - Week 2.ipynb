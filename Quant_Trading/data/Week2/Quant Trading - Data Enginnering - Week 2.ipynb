{
 "cells": [
  {
   "cell_type": "markdown",
   "id": "add195a9",
   "metadata": {},
   "source": [
    "#############################################################################################################################################################################\n",
    "# PreRequisite: Download the libraries\n",
    "\n",
    "### 1. Pandas: It is a super-powered spreadsheet tool for Python, perfect for organizing, cleaning, and analyzing complex data tables efficiently.\n",
    "\n",
    "### 2. NumPy: It is for scientific computing in Python, providing extremely fast ways to handle large lists and tables of numbers (arrays) for mathematical calculations.\n",
    "\n",
    "### 3. yfinance: It is a simple data downloader that allows to fetch real, up-to-date historical stock market prices and volume data directly from Yahoo! Finance. \n",
    "\n",
    "#############################################################################################################################################################################\n"
   ]
  },
  {
   "cell_type": "code",
   "execution_count": 181,
   "id": "f851b6bf",
   "metadata": {},
   "outputs": [
    {
     "name": "stdout",
     "output_type": "stream",
     "text": [
      "Requirement already satisfied: pandas in /opt/anaconda3/lib/python3.13/site-packages (2.2.3)\n",
      "Requirement already satisfied: numpy>=1.26.0 in /opt/anaconda3/lib/python3.13/site-packages (from pandas) (2.1.3)\n",
      "Requirement already satisfied: python-dateutil>=2.8.2 in /opt/anaconda3/lib/python3.13/site-packages (from pandas) (2.9.0.post0)\n",
      "Requirement already satisfied: pytz>=2020.1 in /opt/anaconda3/lib/python3.13/site-packages (from pandas) (2024.1)\n",
      "Requirement already satisfied: tzdata>=2022.7 in /opt/anaconda3/lib/python3.13/site-packages (from pandas) (2025.2)\n",
      "Requirement already satisfied: six>=1.5 in /opt/anaconda3/lib/python3.13/site-packages (from python-dateutil>=2.8.2->pandas) (1.17.0)\n",
      "Requirement already satisfied: numpy in /opt/anaconda3/lib/python3.13/site-packages (2.1.3)\n",
      "Requirement already satisfied: yfinance in /opt/anaconda3/lib/python3.13/site-packages (0.2.66)\n",
      "Requirement already satisfied: pandas>=1.3.0 in /opt/anaconda3/lib/python3.13/site-packages (from yfinance) (2.2.3)\n",
      "Requirement already satisfied: numpy>=1.16.5 in /opt/anaconda3/lib/python3.13/site-packages (from yfinance) (2.1.3)\n",
      "Requirement already satisfied: requests>=2.31 in /opt/anaconda3/lib/python3.13/site-packages (from yfinance) (2.32.3)\n",
      "Requirement already satisfied: multitasking>=0.0.7 in /opt/anaconda3/lib/python3.13/site-packages (from yfinance) (0.0.12)\n",
      "Requirement already satisfied: platformdirs>=2.0.0 in /opt/anaconda3/lib/python3.13/site-packages (from yfinance) (4.3.7)\n",
      "Requirement already satisfied: pytz>=2022.5 in /opt/anaconda3/lib/python3.13/site-packages (from yfinance) (2024.1)\n",
      "Requirement already satisfied: frozendict>=2.3.4 in /opt/anaconda3/lib/python3.13/site-packages (from yfinance) (2.4.2)\n",
      "Requirement already satisfied: peewee>=3.16.2 in /opt/anaconda3/lib/python3.13/site-packages (from yfinance) (3.18.2)\n",
      "Requirement already satisfied: beautifulsoup4>=4.11.1 in /opt/anaconda3/lib/python3.13/site-packages (from yfinance) (4.12.3)\n",
      "Requirement already satisfied: curl_cffi>=0.7 in /opt/anaconda3/lib/python3.13/site-packages (from yfinance) (0.13.0)\n",
      "Requirement already satisfied: protobuf>=3.19.0 in /opt/anaconda3/lib/python3.13/site-packages (from yfinance) (5.29.3)\n",
      "Requirement already satisfied: websockets>=13.0 in /opt/anaconda3/lib/python3.13/site-packages (from yfinance) (15.0.1)\n",
      "Requirement already satisfied: soupsieve>1.2 in /opt/anaconda3/lib/python3.13/site-packages (from beautifulsoup4>=4.11.1->yfinance) (2.5)\n",
      "Requirement already satisfied: cffi>=1.12.0 in /opt/anaconda3/lib/python3.13/site-packages (from curl_cffi>=0.7->yfinance) (1.17.1)\n",
      "Requirement already satisfied: certifi>=2024.2.2 in /opt/anaconda3/lib/python3.13/site-packages (from curl_cffi>=0.7->yfinance) (2025.8.3)\n",
      "Requirement already satisfied: pycparser in /opt/anaconda3/lib/python3.13/site-packages (from cffi>=1.12.0->curl_cffi>=0.7->yfinance) (2.21)\n",
      "Requirement already satisfied: python-dateutil>=2.8.2 in /opt/anaconda3/lib/python3.13/site-packages (from pandas>=1.3.0->yfinance) (2.9.0.post0)\n",
      "Requirement already satisfied: tzdata>=2022.7 in /opt/anaconda3/lib/python3.13/site-packages (from pandas>=1.3.0->yfinance) (2025.2)\n",
      "Requirement already satisfied: six>=1.5 in /opt/anaconda3/lib/python3.13/site-packages (from python-dateutil>=2.8.2->pandas>=1.3.0->yfinance) (1.17.0)\n",
      "Requirement already satisfied: charset-normalizer<4,>=2 in /opt/anaconda3/lib/python3.13/site-packages (from requests>=2.31->yfinance) (3.3.2)\n",
      "Requirement already satisfied: idna<4,>=2.5 in /opt/anaconda3/lib/python3.13/site-packages (from requests>=2.31->yfinance) (3.7)\n",
      "Requirement already satisfied: urllib3<3,>=1.21.1 in /opt/anaconda3/lib/python3.13/site-packages (from requests>=2.31->yfinance) (2.3.0)\n"
     ]
    }
   ],
   "source": [
    "!pip install pandas\n",
    "!pip install numpy\n",
    "!pip install yfinance"
   ]
  },
  {
   "cell_type": "markdown",
   "id": "5a54fdcc",
   "metadata": {},
   "source": [
    "#########################################################################################\n",
    "# STEP 1: Load data from online source (Yahoo! Finance)\n",
    "#########################################################################################"
   ]
  },
  {
   "cell_type": "code",
   "execution_count": 182,
   "id": "351cbbeb",
   "metadata": {},
   "outputs": [],
   "source": [
    "import pandas as pd\n",
    "import numpy as np\n",
    "import yfinance as yf"
   ]
  },
  {
   "cell_type": "code",
   "execution_count": 183,
   "id": "7024faf1",
   "metadata": {},
   "outputs": [
    {
     "name": "stderr",
     "output_type": "stream",
     "text": [
      "/var/folders/s3/qnjcsd9n5b529p_ckj5h51jh0000gn/T/ipykernel_34743/1534914217.py:11: FutureWarning: YF.download() has changed argument auto_adjust default to True\n",
      "  data = yf.download(TICKER, start=START_DATE, end=END_DATE)\n",
      "[*********************100%***********************]  1 of 1 completed\n"
     ]
    }
   ],
   "source": [
    "# Collecting Google data from 2024-10-01 to 2025-10-01. (Date format: Year-Month-Date)\n",
    "TICKER = 'GOOGL'\n",
    "START_DATE = '2024-10-01'\n",
    "END_DATE = '2025-10-01'\n",
    "\n",
    "# Business Day : A business day is any day, excluding weekends and official public holidays, \n",
    "# when major financial markets and banks are open for business and transactions\n",
    "\n",
    "try:\n",
    "    # Download data\n",
    "    data = yf.download(TICKER, start=START_DATE, end=END_DATE)\n",
    "    \n",
    "except Exception as e:\n",
    "    print(f\"Error downloading data: {e}\")\n",
    "    print(\"Please ensure you have 'yfinance' installed (pip install yfinance).\")\n",
    "    exit()"
   ]
  },
  {
   "cell_type": "code",
   "execution_count": 184,
   "id": "943d2978",
   "metadata": {},
   "outputs": [
    {
     "data": {
      "text/plain": [
       "pandas.core.frame.DataFrame"
      ]
     },
     "execution_count": 184,
     "metadata": {},
     "output_type": "execute_result"
    }
   ],
   "source": [
    "# Provide the type of the dataset\n",
    "type(data)"
   ]
  },
  {
   "cell_type": "code",
   "execution_count": 185,
   "id": "8440d022",
   "metadata": {},
   "outputs": [
    {
     "data": {
      "text/plain": [
       "MultiIndex([( 'Close', 'GOOGL'),\n",
       "            (  'High', 'GOOGL'),\n",
       "            (   'Low', 'GOOGL'),\n",
       "            (  'Open', 'GOOGL'),\n",
       "            ('Volume', 'GOOGL')],\n",
       "           names=['Price', 'Ticker'])"
      ]
     },
     "execution_count": 185,
     "metadata": {},
     "output_type": "execute_result"
    }
   ],
   "source": [
    "# List all the columns of the dataset\n",
    "data.columns"
   ]
  },
  {
   "cell_type": "code",
   "execution_count": 186,
   "id": "25194ae6",
   "metadata": {},
   "outputs": [
    {
     "data": {
      "text/plain": [
       "(250, 5)"
      ]
     },
     "execution_count": 186,
     "metadata": {},
     "output_type": "execute_result"
    }
   ],
   "source": [
    "# Provide the size of dataset 250 rows and 2 columns\n",
    "data.shape"
   ]
  },
  {
   "cell_type": "code",
   "execution_count": 187,
   "id": "92ca61e6",
   "metadata": {},
   "outputs": [
    {
     "data": {
      "text/html": [
       "<div>\n",
       "<style scoped>\n",
       "    .dataframe tbody tr th:only-of-type {\n",
       "        vertical-align: middle;\n",
       "    }\n",
       "\n",
       "    .dataframe tbody tr th {\n",
       "        vertical-align: top;\n",
       "    }\n",
       "\n",
       "    .dataframe thead tr th {\n",
       "        text-align: left;\n",
       "    }\n",
       "\n",
       "    .dataframe thead tr:last-of-type th {\n",
       "        text-align: right;\n",
       "    }\n",
       "</style>\n",
       "<table border=\"1\" class=\"dataframe\">\n",
       "  <thead>\n",
       "    <tr>\n",
       "      <th>Price</th>\n",
       "      <th>Close</th>\n",
       "      <th>High</th>\n",
       "      <th>Low</th>\n",
       "      <th>Open</th>\n",
       "      <th>Volume</th>\n",
       "    </tr>\n",
       "    <tr>\n",
       "      <th>Ticker</th>\n",
       "      <th>GOOGL</th>\n",
       "      <th>GOOGL</th>\n",
       "      <th>GOOGL</th>\n",
       "      <th>GOOGL</th>\n",
       "      <th>GOOGL</th>\n",
       "    </tr>\n",
       "    <tr>\n",
       "      <th>Date</th>\n",
       "      <th></th>\n",
       "      <th></th>\n",
       "      <th></th>\n",
       "      <th></th>\n",
       "      <th></th>\n",
       "    </tr>\n",
       "  </thead>\n",
       "  <tbody>\n",
       "    <tr>\n",
       "      <th>2024-10-01</th>\n",
       "      <td>166.256821</td>\n",
       "      <td>168.417291</td>\n",
       "      <td>163.857398</td>\n",
       "      <td>166.953744</td>\n",
       "      <td>28338100</td>\n",
       "    </tr>\n",
       "    <tr>\n",
       "      <th>2024-10-02</th>\n",
       "      <td>165.131775</td>\n",
       "      <td>166.784490</td>\n",
       "      <td>164.006731</td>\n",
       "      <td>165.689314</td>\n",
       "      <td>17760200</td>\n",
       "    </tr>\n",
       "    <tr>\n",
       "      <th>2024-10-03</th>\n",
       "      <td>165.131775</td>\n",
       "      <td>165.908349</td>\n",
       "      <td>163.200290</td>\n",
       "      <td>163.688144</td>\n",
       "      <td>15073100</td>\n",
       "    </tr>\n",
       "    <tr>\n",
       "      <th>2024-10-04</th>\n",
       "      <td>166.326492</td>\n",
       "      <td>167.491353</td>\n",
       "      <td>164.753428</td>\n",
       "      <td>167.322102</td>\n",
       "      <td>19047400</td>\n",
       "    </tr>\n",
       "    <tr>\n",
       "      <th>2024-10-07</th>\n",
       "      <td>162.264404</td>\n",
       "      <td>167.740256</td>\n",
       "      <td>162.035418</td>\n",
       "      <td>166.983598</td>\n",
       "      <td>22463100</td>\n",
       "    </tr>\n",
       "    <tr>\n",
       "      <th>2024-10-08</th>\n",
       "      <td>163.658264</td>\n",
       "      <td>164.006718</td>\n",
       "      <td>162.154884</td>\n",
       "      <td>163.220194</td>\n",
       "      <td>23072700</td>\n",
       "    </tr>\n",
       "    <tr>\n",
       "      <th>2024-10-09</th>\n",
       "      <td>161.149323</td>\n",
       "      <td>164.116234</td>\n",
       "      <td>159.038636</td>\n",
       "      <td>162.732338</td>\n",
       "      <td>31181800</td>\n",
       "    </tr>\n",
       "  </tbody>\n",
       "</table>\n",
       "</div>"
      ],
      "text/plain": [
       "Price            Close        High         Low        Open    Volume\n",
       "Ticker           GOOGL       GOOGL       GOOGL       GOOGL     GOOGL\n",
       "Date                                                                \n",
       "2024-10-01  166.256821  168.417291  163.857398  166.953744  28338100\n",
       "2024-10-02  165.131775  166.784490  164.006731  165.689314  17760200\n",
       "2024-10-03  165.131775  165.908349  163.200290  163.688144  15073100\n",
       "2024-10-04  166.326492  167.491353  164.753428  167.322102  19047400\n",
       "2024-10-07  162.264404  167.740256  162.035418  166.983598  22463100\n",
       "2024-10-08  163.658264  164.006718  162.154884  163.220194  23072700\n",
       "2024-10-09  161.149323  164.116234  159.038636  162.732338  31181800"
      ]
     },
     "execution_count": 187,
     "metadata": {},
     "output_type": "execute_result"
    }
   ],
   "source": [
    "# View data top 7 rows, bydefault head shows first 5 rows\n",
    "data.head(7)"
   ]
  },
  {
   "cell_type": "code",
   "execution_count": 188,
   "id": "1fae21a5",
   "metadata": {},
   "outputs": [
    {
     "data": {
      "text/html": [
       "<div>\n",
       "<style scoped>\n",
       "    .dataframe tbody tr th:only-of-type {\n",
       "        vertical-align: middle;\n",
       "    }\n",
       "\n",
       "    .dataframe tbody tr th {\n",
       "        vertical-align: top;\n",
       "    }\n",
       "\n",
       "    .dataframe thead tr th {\n",
       "        text-align: left;\n",
       "    }\n",
       "\n",
       "    .dataframe thead tr:last-of-type th {\n",
       "        text-align: right;\n",
       "    }\n",
       "</style>\n",
       "<table border=\"1\" class=\"dataframe\">\n",
       "  <thead>\n",
       "    <tr>\n",
       "      <th>Price</th>\n",
       "      <th>Close</th>\n",
       "      <th>High</th>\n",
       "      <th>Low</th>\n",
       "      <th>Open</th>\n",
       "      <th>Volume</th>\n",
       "    </tr>\n",
       "    <tr>\n",
       "      <th>Ticker</th>\n",
       "      <th>GOOGL</th>\n",
       "      <th>GOOGL</th>\n",
       "      <th>GOOGL</th>\n",
       "      <th>GOOGL</th>\n",
       "      <th>GOOGL</th>\n",
       "    </tr>\n",
       "    <tr>\n",
       "      <th>Date</th>\n",
       "      <th></th>\n",
       "      <th></th>\n",
       "      <th></th>\n",
       "      <th></th>\n",
       "      <th></th>\n",
       "    </tr>\n",
       "  </thead>\n",
       "  <tbody>\n",
       "    <tr>\n",
       "      <th>2025-09-22</th>\n",
       "      <td>252.529999</td>\n",
       "      <td>255.779999</td>\n",
       "      <td>250.300003</td>\n",
       "      <td>254.429993</td>\n",
       "      <td>32290500</td>\n",
       "    </tr>\n",
       "    <tr>\n",
       "      <th>2025-09-23</th>\n",
       "      <td>251.660004</td>\n",
       "      <td>254.360001</td>\n",
       "      <td>250.479996</td>\n",
       "      <td>253.039993</td>\n",
       "      <td>26628000</td>\n",
       "    </tr>\n",
       "    <tr>\n",
       "      <th>2025-09-24</th>\n",
       "      <td>247.139999</td>\n",
       "      <td>252.350006</td>\n",
       "      <td>246.440002</td>\n",
       "      <td>251.660004</td>\n",
       "      <td>28201000</td>\n",
       "    </tr>\n",
       "    <tr>\n",
       "      <th>2025-09-25</th>\n",
       "      <td>245.789993</td>\n",
       "      <td>246.490005</td>\n",
       "      <td>240.740005</td>\n",
       "      <td>244.399994</td>\n",
       "      <td>31020400</td>\n",
       "    </tr>\n",
       "    <tr>\n",
       "      <th>2025-09-26</th>\n",
       "      <td>246.539993</td>\n",
       "      <td>249.419998</td>\n",
       "      <td>245.970001</td>\n",
       "      <td>247.070007</td>\n",
       "      <td>18503200</td>\n",
       "    </tr>\n",
       "    <tr>\n",
       "      <th>2025-09-29</th>\n",
       "      <td>244.050003</td>\n",
       "      <td>251.149994</td>\n",
       "      <td>242.770004</td>\n",
       "      <td>247.850006</td>\n",
       "      <td>32505800</td>\n",
       "    </tr>\n",
       "    <tr>\n",
       "      <th>2025-09-30</th>\n",
       "      <td>243.100006</td>\n",
       "      <td>243.289993</td>\n",
       "      <td>239.250000</td>\n",
       "      <td>242.809998</td>\n",
       "      <td>34724300</td>\n",
       "    </tr>\n",
       "  </tbody>\n",
       "</table>\n",
       "</div>"
      ],
      "text/plain": [
       "Price            Close        High         Low        Open    Volume\n",
       "Ticker           GOOGL       GOOGL       GOOGL       GOOGL     GOOGL\n",
       "Date                                                                \n",
       "2025-09-22  252.529999  255.779999  250.300003  254.429993  32290500\n",
       "2025-09-23  251.660004  254.360001  250.479996  253.039993  26628000\n",
       "2025-09-24  247.139999  252.350006  246.440002  251.660004  28201000\n",
       "2025-09-25  245.789993  246.490005  240.740005  244.399994  31020400\n",
       "2025-09-26  246.539993  249.419998  245.970001  247.070007  18503200\n",
       "2025-09-29  244.050003  251.149994  242.770004  247.850006  32505800\n",
       "2025-09-30  243.100006  243.289993  239.250000  242.809998  34724300"
      ]
     },
     "execution_count": 188,
     "metadata": {},
     "output_type": "execute_result"
    }
   ],
   "source": [
    "# View data bottom 7 rows\n",
    "data.tail(7)"
   ]
  },
  {
   "cell_type": "code",
   "execution_count": 189,
   "id": "256db845",
   "metadata": {},
   "outputs": [
    {
     "data": {
      "text/plain": [
       "Price   Ticker\n",
       "Close   GOOGL     float64\n",
       "High    GOOGL     float64\n",
       "Low     GOOGL     float64\n",
       "Open    GOOGL     float64\n",
       "Volume  GOOGL       int64\n",
       "dtype: object"
      ]
     },
     "execution_count": 189,
     "metadata": {},
     "output_type": "execute_result"
    }
   ],
   "source": [
    "# Type of each column\n",
    "data.dtypes"
   ]
  },
  {
   "cell_type": "code",
   "execution_count": 190,
   "id": "28b9cb7f",
   "metadata": {},
   "outputs": [],
   "source": [
    "# Select only the columns needed for quantitative analysis\n",
    "data = data[['Close', 'Volume']]"
   ]
  },
  {
   "cell_type": "code",
   "execution_count": 191,
   "id": "f25a42b1",
   "metadata": {},
   "outputs": [
    {
     "data": {
      "text/html": [
       "<div>\n",
       "<style scoped>\n",
       "    .dataframe tbody tr th:only-of-type {\n",
       "        vertical-align: middle;\n",
       "    }\n",
       "\n",
       "    .dataframe tbody tr th {\n",
       "        vertical-align: top;\n",
       "    }\n",
       "\n",
       "    .dataframe thead tr th {\n",
       "        text-align: left;\n",
       "    }\n",
       "\n",
       "    .dataframe thead tr:last-of-type th {\n",
       "        text-align: right;\n",
       "    }\n",
       "</style>\n",
       "<table border=\"1\" class=\"dataframe\">\n",
       "  <thead>\n",
       "    <tr>\n",
       "      <th>Price</th>\n",
       "      <th>Close</th>\n",
       "      <th>Volume</th>\n",
       "    </tr>\n",
       "    <tr>\n",
       "      <th>Ticker</th>\n",
       "      <th>GOOGL</th>\n",
       "      <th>GOOGL</th>\n",
       "    </tr>\n",
       "    <tr>\n",
       "      <th>Date</th>\n",
       "      <th></th>\n",
       "      <th></th>\n",
       "    </tr>\n",
       "  </thead>\n",
       "  <tbody>\n",
       "    <tr>\n",
       "      <th>2024-10-01</th>\n",
       "      <td>166.256821</td>\n",
       "      <td>28338100</td>\n",
       "    </tr>\n",
       "    <tr>\n",
       "      <th>2024-10-02</th>\n",
       "      <td>165.131775</td>\n",
       "      <td>17760200</td>\n",
       "    </tr>\n",
       "    <tr>\n",
       "      <th>2024-10-03</th>\n",
       "      <td>165.131775</td>\n",
       "      <td>15073100</td>\n",
       "    </tr>\n",
       "    <tr>\n",
       "      <th>2024-10-04</th>\n",
       "      <td>166.326492</td>\n",
       "      <td>19047400</td>\n",
       "    </tr>\n",
       "    <tr>\n",
       "      <th>2024-10-07</th>\n",
       "      <td>162.264404</td>\n",
       "      <td>22463100</td>\n",
       "    </tr>\n",
       "  </tbody>\n",
       "</table>\n",
       "</div>"
      ],
      "text/plain": [
       "Price            Close    Volume\n",
       "Ticker           GOOGL     GOOGL\n",
       "Date                            \n",
       "2024-10-01  166.256821  28338100\n",
       "2024-10-02  165.131775  17760200\n",
       "2024-10-03  165.131775  15073100\n",
       "2024-10-04  166.326492  19047400\n",
       "2024-10-07  162.264404  22463100"
      ]
     },
     "execution_count": 191,
     "metadata": {},
     "output_type": "execute_result"
    }
   ],
   "source": [
    "data.head()"
   ]
  },
  {
   "cell_type": "code",
   "execution_count": 192,
   "id": "e4914b15",
   "metadata": {},
   "outputs": [
    {
     "name": "stdout",
     "output_type": "stream",
     "text": [
      "\n",
      "Initial Missing Value Count:\n",
      "Price   Ticker\n",
      "Close   GOOGL     0\n",
      "Volume  GOOGL     0\n",
      "dtype: int64\n"
     ]
    }
   ],
   "source": [
    "print(f\"\\nInitial Missing Value Count:\\n{data.isnull().sum()}\")"
   ]
  },
  {
   "cell_type": "code",
   "execution_count": 193,
   "id": "f8d7abec",
   "metadata": {},
   "outputs": [
    {
     "data": {
      "text/html": [
       "<div>\n",
       "<style scoped>\n",
       "    .dataframe tbody tr th:only-of-type {\n",
       "        vertical-align: middle;\n",
       "    }\n",
       "\n",
       "    .dataframe tbody tr th {\n",
       "        vertical-align: top;\n",
       "    }\n",
       "\n",
       "    .dataframe thead tr th {\n",
       "        text-align: left;\n",
       "    }\n",
       "\n",
       "    .dataframe thead tr:last-of-type th {\n",
       "        text-align: right;\n",
       "    }\n",
       "</style>\n",
       "<table border=\"1\" class=\"dataframe\">\n",
       "  <thead>\n",
       "    <tr>\n",
       "      <th>Price</th>\n",
       "      <th>Close</th>\n",
       "      <th>Volume</th>\n",
       "    </tr>\n",
       "    <tr>\n",
       "      <th>Ticker</th>\n",
       "      <th>GOOGL</th>\n",
       "      <th>GOOGL</th>\n",
       "    </tr>\n",
       "    <tr>\n",
       "      <th>Date</th>\n",
       "      <th></th>\n",
       "      <th></th>\n",
       "    </tr>\n",
       "  </thead>\n",
       "  <tbody>\n",
       "    <tr>\n",
       "      <th>2024-10-15</th>\n",
       "      <td>164.733536</td>\n",
       "      <td>20247200</td>\n",
       "    </tr>\n",
       "    <tr>\n",
       "      <th>2024-10-16</th>\n",
       "      <td>164.434845</td>\n",
       "      <td>16406000</td>\n",
       "    </tr>\n",
       "    <tr>\n",
       "      <th>2024-10-17</th>\n",
       "      <td>162.214615</td>\n",
       "      <td>21453400</td>\n",
       "    </tr>\n",
       "    <tr>\n",
       "      <th>2024-10-18</th>\n",
       "      <td>162.702484</td>\n",
       "      <td>19757700</td>\n",
       "    </tr>\n",
       "    <tr>\n",
       "      <th>2024-10-21</th>\n",
       "      <td>163.349640</td>\n",
       "      <td>20946500</td>\n",
       "    </tr>\n",
       "    <tr>\n",
       "      <th>2024-10-22</th>\n",
       "      <td>164.414932</td>\n",
       "      <td>16568100</td>\n",
       "    </tr>\n",
       "    <tr>\n",
       "      <th>2024-10-23</th>\n",
       "      <td>162.065292</td>\n",
       "      <td>18280500</td>\n",
       "    </tr>\n",
       "    <tr>\n",
       "      <th>2024-10-24</th>\n",
       "      <td>162.005554</td>\n",
       "      <td>22412500</td>\n",
       "    </tr>\n",
       "    <tr>\n",
       "      <th>2024-10-25</th>\n",
       "      <td>164.544357</td>\n",
       "      <td>19828900</td>\n",
       "    </tr>\n",
       "    <tr>\n",
       "      <th>2024-10-28</th>\n",
       "      <td>165.987991</td>\n",
       "      <td>32138600</td>\n",
       "    </tr>\n",
       "  </tbody>\n",
       "</table>\n",
       "</div>"
      ],
      "text/plain": [
       "Price            Close    Volume\n",
       "Ticker           GOOGL     GOOGL\n",
       "Date                            \n",
       "2024-10-15  164.733536  20247200\n",
       "2024-10-16  164.434845  16406000\n",
       "2024-10-17  162.214615  21453400\n",
       "2024-10-18  162.702484  19757700\n",
       "2024-10-21  163.349640  20946500\n",
       "2024-10-22  164.414932  16568100\n",
       "2024-10-23  162.065292  18280500\n",
       "2024-10-24  162.005554  22412500\n",
       "2024-10-25  164.544357  19828900\n",
       "2024-10-28  165.987991  32138600"
      ]
     },
     "execution_count": 193,
     "metadata": {},
     "output_type": "execute_result"
    }
   ],
   "source": [
    "# iloc is used to slice the data\n",
    "# dataframe.iloc[row, column]\n",
    "# collected 10 rows which be used to add impurities\n",
    "data.iloc[10:20]"
   ]
  },
  {
   "cell_type": "code",
   "execution_count": 194,
   "id": "0ab7e88f",
   "metadata": {},
   "outputs": [],
   "source": [
    "# Introducing some artificial missing values and an outlier for demonstration\n",
    "# This simulates common data issues even with real feeds\n",
    "data.iloc[10:20, data.columns.get_loc('Close')] = np.nan"
   ]
  },
  {
   "cell_type": "code",
   "execution_count": 195,
   "id": "7691408b",
   "metadata": {},
   "outputs": [
    {
     "data": {
      "text/html": [
       "<div>\n",
       "<style scoped>\n",
       "    .dataframe tbody tr th:only-of-type {\n",
       "        vertical-align: middle;\n",
       "    }\n",
       "\n",
       "    .dataframe tbody tr th {\n",
       "        vertical-align: top;\n",
       "    }\n",
       "\n",
       "    .dataframe thead tr th {\n",
       "        text-align: left;\n",
       "    }\n",
       "\n",
       "    .dataframe thead tr:last-of-type th {\n",
       "        text-align: right;\n",
       "    }\n",
       "</style>\n",
       "<table border=\"1\" class=\"dataframe\">\n",
       "  <thead>\n",
       "    <tr>\n",
       "      <th>Price</th>\n",
       "      <th>Close</th>\n",
       "      <th>Volume</th>\n",
       "    </tr>\n",
       "    <tr>\n",
       "      <th>Ticker</th>\n",
       "      <th>GOOGL</th>\n",
       "      <th>GOOGL</th>\n",
       "    </tr>\n",
       "    <tr>\n",
       "      <th>Date</th>\n",
       "      <th></th>\n",
       "      <th></th>\n",
       "    </tr>\n",
       "  </thead>\n",
       "  <tbody>\n",
       "    <tr>\n",
       "      <th>2024-10-15</th>\n",
       "      <td>NaN</td>\n",
       "      <td>20247200</td>\n",
       "    </tr>\n",
       "    <tr>\n",
       "      <th>2024-10-16</th>\n",
       "      <td>NaN</td>\n",
       "      <td>16406000</td>\n",
       "    </tr>\n",
       "    <tr>\n",
       "      <th>2024-10-17</th>\n",
       "      <td>NaN</td>\n",
       "      <td>21453400</td>\n",
       "    </tr>\n",
       "    <tr>\n",
       "      <th>2024-10-18</th>\n",
       "      <td>NaN</td>\n",
       "      <td>19757700</td>\n",
       "    </tr>\n",
       "    <tr>\n",
       "      <th>2024-10-21</th>\n",
       "      <td>NaN</td>\n",
       "      <td>20946500</td>\n",
       "    </tr>\n",
       "    <tr>\n",
       "      <th>2024-10-22</th>\n",
       "      <td>NaN</td>\n",
       "      <td>16568100</td>\n",
       "    </tr>\n",
       "    <tr>\n",
       "      <th>2024-10-23</th>\n",
       "      <td>NaN</td>\n",
       "      <td>18280500</td>\n",
       "    </tr>\n",
       "    <tr>\n",
       "      <th>2024-10-24</th>\n",
       "      <td>NaN</td>\n",
       "      <td>22412500</td>\n",
       "    </tr>\n",
       "    <tr>\n",
       "      <th>2024-10-25</th>\n",
       "      <td>NaN</td>\n",
       "      <td>19828900</td>\n",
       "    </tr>\n",
       "    <tr>\n",
       "      <th>2024-10-28</th>\n",
       "      <td>NaN</td>\n",
       "      <td>32138600</td>\n",
       "    </tr>\n",
       "  </tbody>\n",
       "</table>\n",
       "</div>"
      ],
      "text/plain": [
       "Price      Close    Volume\n",
       "Ticker     GOOGL     GOOGL\n",
       "Date                      \n",
       "2024-10-15   NaN  20247200\n",
       "2024-10-16   NaN  16406000\n",
       "2024-10-17   NaN  21453400\n",
       "2024-10-18   NaN  19757700\n",
       "2024-10-21   NaN  20946500\n",
       "2024-10-22   NaN  16568100\n",
       "2024-10-23   NaN  18280500\n",
       "2024-10-24   NaN  22412500\n",
       "2024-10-25   NaN  19828900\n",
       "2024-10-28   NaN  32138600"
      ]
     },
     "execution_count": 195,
     "metadata": {},
     "output_type": "execute_result"
    }
   ],
   "source": [
    "# Data got impuried\n",
    "data.iloc[10:20]"
   ]
  },
  {
   "cell_type": "code",
   "execution_count": 196,
   "id": "59e815df",
   "metadata": {},
   "outputs": [
    {
     "data": {
      "text/plain": [
       "Price   Ticker\n",
       "Close   GOOGL     1.689350e+02\n",
       "Volume  GOOGL     4.216900e+07\n",
       "Name: 2024-10-29 00:00:00, dtype: float64"
      ]
     },
     "execution_count": 196,
     "metadata": {},
     "output_type": "execute_result"
    }
   ],
   "source": [
    "# Row 20 without an outlier impurity\n",
    "data.iloc[20]"
   ]
  },
  {
   "cell_type": "code",
   "execution_count": 197,
   "id": "d0a0ba0c",
   "metadata": {},
   "outputs": [],
   "source": [
    "# Introducing an outlier in Volume\n",
    "outlier_idx = 20 # chossing row 20\n",
    "data.iloc[outlier_idx, data.columns.get_loc('Volume')] = data['Volume'].max() * 5 # Extreme volume spike"
   ]
  },
  {
   "cell_type": "code",
   "execution_count": 198,
   "id": "893f4e2c",
   "metadata": {},
   "outputs": [
    {
     "data": {
      "text/plain": [
       "Price   Ticker\n",
       "Close   GOOGL     1.689350e+02\n",
       "Volume  GOOGL     6.374505e+08\n",
       "Name: 2024-10-29 00:00:00, dtype: float64"
      ]
     },
     "execution_count": 198,
     "metadata": {},
     "output_type": "execute_result"
    }
   ],
   "source": [
    "# Row 20 after adding an outlier impurity\n",
    "data.iloc[20]"
   ]
  },
  {
   "cell_type": "code",
   "execution_count": 199,
   "id": "0e90229f",
   "metadata": {},
   "outputs": [
    {
     "data": {
      "text/plain": [
       "Price   Ticker\n",
       "Volume  GOOGL     637450500\n",
       "Name: 2024-10-29 00:00:00, dtype: int64"
      ]
     },
     "execution_count": 199,
     "metadata": {},
     "output_type": "execute_result"
    }
   ],
   "source": [
    "data.iloc[20, data.columns.get_loc('Volume')] "
   ]
  },
  {
   "cell_type": "markdown",
   "id": "e4f35131",
   "metadata": {},
   "source": [
    "###################################################################################\n",
    "# STEP 2: Data Cleaning (Handling NaNs and Outliers)\n",
    "###################################################################################"
   ]
  },
  {
   "cell_type": "markdown",
   "id": "c4274eb8",
   "metadata": {},
   "source": [
    "#### What is Linear Interpolation?\n",
    "#### Linear interpolation in time-series analysis is a method used to estimate missing data points by drawing a straight line between the nearest two known data points. This approach helps maintain trend continuity by assuming a constant rate of change between the known, adjacent observations.\n",
    "\n",
    "![Image](Linear_Interpolation_Formula.png)\n"
   ]
  },
  {
   "cell_type": "code",
   "execution_count": 200,
   "id": "18889d32",
   "metadata": {},
   "outputs": [],
   "source": [
    "# Handling Missing Close Values (NaNs)\n",
    "# Strategy: Use linear interpolation to maintain the time-series trend continuity.\n",
    "data['Close'] = data['Close'].interpolate(method='linear')"
   ]
  },
  {
   "cell_type": "code",
   "execution_count": 201,
   "id": "fd74e2df",
   "metadata": {},
   "outputs": [
    {
     "data": {
      "text/html": [
       "<div>\n",
       "<style scoped>\n",
       "    .dataframe tbody tr th:only-of-type {\n",
       "        vertical-align: middle;\n",
       "    }\n",
       "\n",
       "    .dataframe tbody tr th {\n",
       "        vertical-align: top;\n",
       "    }\n",
       "\n",
       "    .dataframe thead tr th {\n",
       "        text-align: left;\n",
       "    }\n",
       "\n",
       "    .dataframe thead tr:last-of-type th {\n",
       "        text-align: right;\n",
       "    }\n",
       "</style>\n",
       "<table border=\"1\" class=\"dataframe\">\n",
       "  <thead>\n",
       "    <tr>\n",
       "      <th>Price</th>\n",
       "      <th>Close</th>\n",
       "      <th>Volume</th>\n",
       "    </tr>\n",
       "    <tr>\n",
       "      <th>Ticker</th>\n",
       "      <th>GOOGL</th>\n",
       "      <th>GOOGL</th>\n",
       "    </tr>\n",
       "    <tr>\n",
       "      <th>Date</th>\n",
       "      <th></th>\n",
       "      <th></th>\n",
       "    </tr>\n",
       "  </thead>\n",
       "  <tbody>\n",
       "    <tr>\n",
       "      <th>2024-10-15</th>\n",
       "      <td>164.662924</td>\n",
       "      <td>20247200</td>\n",
       "    </tr>\n",
       "    <tr>\n",
       "      <th>2024-10-16</th>\n",
       "      <td>165.090130</td>\n",
       "      <td>16406000</td>\n",
       "    </tr>\n",
       "    <tr>\n",
       "      <th>2024-10-17</th>\n",
       "      <td>165.517335</td>\n",
       "      <td>21453400</td>\n",
       "    </tr>\n",
       "    <tr>\n",
       "      <th>2024-10-18</th>\n",
       "      <td>165.944541</td>\n",
       "      <td>19757700</td>\n",
       "    </tr>\n",
       "    <tr>\n",
       "      <th>2024-10-21</th>\n",
       "      <td>166.371747</td>\n",
       "      <td>20946500</td>\n",
       "    </tr>\n",
       "    <tr>\n",
       "      <th>2024-10-22</th>\n",
       "      <td>166.798953</td>\n",
       "      <td>16568100</td>\n",
       "    </tr>\n",
       "    <tr>\n",
       "      <th>2024-10-23</th>\n",
       "      <td>167.226159</td>\n",
       "      <td>18280500</td>\n",
       "    </tr>\n",
       "    <tr>\n",
       "      <th>2024-10-24</th>\n",
       "      <td>167.653365</td>\n",
       "      <td>22412500</td>\n",
       "    </tr>\n",
       "    <tr>\n",
       "      <th>2024-10-25</th>\n",
       "      <td>168.080571</td>\n",
       "      <td>19828900</td>\n",
       "    </tr>\n",
       "    <tr>\n",
       "      <th>2024-10-28</th>\n",
       "      <td>168.507776</td>\n",
       "      <td>32138600</td>\n",
       "    </tr>\n",
       "  </tbody>\n",
       "</table>\n",
       "</div>"
      ],
      "text/plain": [
       "Price            Close    Volume\n",
       "Ticker           GOOGL     GOOGL\n",
       "Date                            \n",
       "2024-10-15  164.662924  20247200\n",
       "2024-10-16  165.090130  16406000\n",
       "2024-10-17  165.517335  21453400\n",
       "2024-10-18  165.944541  19757700\n",
       "2024-10-21  166.371747  20946500\n",
       "2024-10-22  166.798953  16568100\n",
       "2024-10-23  167.226159  18280500\n",
       "2024-10-24  167.653365  22412500\n",
       "2024-10-25  168.080571  19828900\n",
       "2024-10-28  168.507776  32138600"
      ]
     },
     "execution_count": 201,
     "metadata": {},
     "output_type": "execute_result"
    }
   ],
   "source": [
    "# Close columns NaNs handled using Linear Interpolation.\n",
    "data.iloc[10:20]"
   ]
  },
  {
   "cell_type": "markdown",
   "id": "d1a73030",
   "metadata": {},
   "source": [
    "### What is Interquartile Range?\n",
    "#### The Interquartile Range (IQR) method is a statistical technique used to measure the spread of the middle half of a dataset and to identify outliers (extreme values).\n",
    "\n",
    "![Image](box_plot.png)"
   ]
  },
  {
   "cell_type": "code",
   "execution_count": 202,
   "id": "d1e2885a",
   "metadata": {},
   "outputs": [
    {
     "name": "stdout",
     "output_type": "stream",
     "text": [
      "Volume at Outlier Index (Row 20) after capping: Ticker\n",
      "GOOGL    86513550\n",
      "Name: 2024-10-29 00:00:00, dtype: int64\n"
     ]
    }
   ],
   "source": [
    "# Handling Volume Outliers\n",
    "# Strategy: Using the IQR method (1.5 * IQR (Lower Fence (Lower Outlier Threshold)) or 3.0 * IQR (Upper Fence (Upper Outlier Threshold))) to cap extreme values.\n",
    "Q1 = data['Volume'].quantile(0.25)\n",
    "Q3 = data['Volume'].quantile(0.75)\n",
    "IQR = Q3 - Q1\n",
    "upper_bound = Q3 + 3.0 * IQR\n",
    "\n",
    "# Limit the volume values\n",
    "data['Volume'] = data['Volume'].clip(upper=upper_bound,axis=1)\n",
    "\n",
    "\n",
    "print(f\"Volume at Outlier Index (Row 20) after capping: {data['Volume'].iloc[20]}\")"
   ]
  },
  {
   "cell_type": "markdown",
   "id": "fb0b81f8",
   "metadata": {},
   "source": [
    "# Question :  Add an outlier on the lower bound and see how the lower bound behaves"
   ]
  },
  {
   "cell_type": "markdown",
   "id": "ef452a9e",
   "metadata": {},
   "source": [
    "#########################################################################################\n",
    "# STEP 3: Feature Engineering (Creating Quant Metrics)\n",
    "#########################################################################################"
   ]
  },
  {
   "cell_type": "markdown",
   "id": "c119734b",
   "metadata": {},
   "source": [
    "#### What is log return?\n",
    "#### The log return (continuously compounded return) is a way of calculating the rate of return on an investment by taking the natural logarithm of the price ratio. It is a fundamental concept in financial modeling and quantitative finance."
   ]
  },
  {
   "cell_type": "code",
   "execution_count": 203,
   "id": "35effe33",
   "metadata": {},
   "outputs": [],
   "source": [
    "# Creating a new column Log_Return\n",
    "# Log Returns (Measure of Price Change/Volatility)\n",
    "data['Log_Return'] = np.log(data['Close'] / data['Close'].shift(1))"
   ]
  },
  {
   "cell_type": "code",
   "execution_count": 204,
   "id": "5967d799",
   "metadata": {},
   "outputs": [
    {
     "data": {
      "text/plain": [
       "MultiIndex([(     'Close', 'GOOGL'),\n",
       "            (    'Volume', 'GOOGL'),\n",
       "            ('Log_Return',      '')],\n",
       "           names=['Price', 'Ticker'])"
      ]
     },
     "execution_count": 204,
     "metadata": {},
     "output_type": "execute_result"
    }
   ],
   "source": [
    "data.columns"
   ]
  },
  {
   "cell_type": "code",
   "execution_count": 205,
   "id": "4fc10d8d",
   "metadata": {},
   "outputs": [],
   "source": [
    "# Volatility Feature (10-Day Rolling Standard Deviation of Returns)\n",
    "# Creates a measure of risk over the last 10 days.\n",
    "data['Vol_10D'] = data['Log_Return'].rolling(window=10).std()"
   ]
  },
  {
   "cell_type": "code",
   "execution_count": 206,
   "id": "df338052",
   "metadata": {},
   "outputs": [],
   "source": [
    "# Momentum Feature (20-Day Simple Moving Average)\n",
    "# Measures the longer-term trend.\n",
    "data['SMA_20D'] = data['Close'].rolling(window=20).mean()"
   ]
  },
  {
   "cell_type": "code",
   "execution_count": 207,
   "id": "06865a2c",
   "metadata": {},
   "outputs": [],
   "source": [
    "\n",
    "# Feature Interaction: Price/Volume Ratio\n",
    "data['PV_Ratio'] = data['Close'] / data['Volume']"
   ]
  },
  {
   "cell_type": "code",
   "execution_count": 208,
   "id": "1ec42c24",
   "metadata": {},
   "outputs": [],
   "source": [
    "# Categorical Signal\n",
    "# Simple 'Up' or 'Down' signal based on previous day's return\n",
    "data['Trading_Signal'] = np.where(data['Log_Return'].shift(1) > 0, 'Up', 'Down')"
   ]
  },
  {
   "cell_type": "markdown",
   "id": "7f56c944",
   "metadata": {},
   "source": [
    "########################################################################################################\n",
    "# STEP 4: Scaling and Encoding (Standardization and One Hot Encoding)\n",
    "########################################################################################################"
   ]
  },
  {
   "cell_type": "code",
   "execution_count": 209,
   "id": "f8b23d13",
   "metadata": {},
   "outputs": [],
   "source": [
    "\n",
    "# All continuous features that need to be scaled\n",
    "CONTINUOUS_FEATURES = ['Close', 'Volume', 'Log_Return', 'Vol_10D', 'SMA_20D', 'PV_Ratio']"
   ]
  },
  {
   "cell_type": "markdown",
   "id": "06f86387",
   "metadata": {},
   "source": [
    "#### What is Z-score?\n",
    "#### Z-score normalization (standardization), is a statistical method that rescales data so that it has a mean (μ) of 0 and a standard deviation (σ) of 1."
   ]
  },
  {
   "cell_type": "code",
   "execution_count": 210,
   "id": "c7626ced",
   "metadata": {},
   "outputs": [],
   "source": [
    "# Standardization (Z-score Normalization)\n",
    "# We calculate mu and sigma for each column independently.\n",
    "for col in CONTINUOUS_FEATURES:\n",
    "    # 1. Calculate statistics (column-wise mean and std dev)\n",
    "    mu = data[col].mean()\n",
    "    sigma = data[col].std()\n",
    "    \n",
    "    # 2. Apply Z-score formula: z = (x - mu) / sigma\n",
    "    data[f'{col}_Z'] = (data[col] - mu) / sigma"
   ]
  },
  {
   "cell_type": "code",
   "execution_count": 211,
   "id": "bb773967",
   "metadata": {},
   "outputs": [
    {
     "data": {
      "text/plain": [
       "MultiIndex([(         'Close', 'GOOGL'),\n",
       "            (        'Volume', 'GOOGL'),\n",
       "            (    'Log_Return',      ''),\n",
       "            (       'Vol_10D',      ''),\n",
       "            (       'SMA_20D',      ''),\n",
       "            (      'PV_Ratio',      ''),\n",
       "            ('Trading_Signal',      ''),\n",
       "            (       'Close_Z',      ''),\n",
       "            (      'Volume_Z',      ''),\n",
       "            (  'Log_Return_Z',      ''),\n",
       "            (     'Vol_10D_Z',      ''),\n",
       "            (     'SMA_20D_Z',      ''),\n",
       "            (    'PV_Ratio_Z',      '')],\n",
       "           names=['Price', 'Ticker'])"
      ]
     },
     "execution_count": 211,
     "metadata": {},
     "output_type": "execute_result"
    }
   ],
   "source": [
    "data.columns"
   ]
  },
  {
   "cell_type": "code",
   "execution_count": 212,
   "id": "10381ea3",
   "metadata": {},
   "outputs": [
    {
     "data": {
      "text/html": [
       "<div>\n",
       "<style scoped>\n",
       "    .dataframe tbody tr th:only-of-type {\n",
       "        vertical-align: middle;\n",
       "    }\n",
       "\n",
       "    .dataframe tbody tr th {\n",
       "        vertical-align: top;\n",
       "    }\n",
       "\n",
       "    .dataframe thead tr th {\n",
       "        text-align: left;\n",
       "    }\n",
       "\n",
       "    .dataframe thead tr:last-of-type th {\n",
       "        text-align: right;\n",
       "    }\n",
       "</style>\n",
       "<table border=\"1\" class=\"dataframe\">\n",
       "  <thead>\n",
       "    <tr>\n",
       "      <th>Price</th>\n",
       "      <th>Close</th>\n",
       "      <th>Volume</th>\n",
       "      <th>Log_Return</th>\n",
       "      <th>Vol_10D</th>\n",
       "      <th>SMA_20D</th>\n",
       "      <th>PV_Ratio</th>\n",
       "      <th>Trading_Signal</th>\n",
       "      <th>Close_Z</th>\n",
       "      <th>Volume_Z</th>\n",
       "      <th>Log_Return_Z</th>\n",
       "      <th>Vol_10D_Z</th>\n",
       "      <th>SMA_20D_Z</th>\n",
       "      <th>PV_Ratio_Z</th>\n",
       "    </tr>\n",
       "    <tr>\n",
       "      <th>Ticker</th>\n",
       "      <th>GOOGL</th>\n",
       "      <th>GOOGL</th>\n",
       "      <th></th>\n",
       "      <th></th>\n",
       "      <th></th>\n",
       "      <th></th>\n",
       "      <th></th>\n",
       "      <th></th>\n",
       "      <th></th>\n",
       "      <th></th>\n",
       "      <th></th>\n",
       "      <th></th>\n",
       "      <th></th>\n",
       "    </tr>\n",
       "    <tr>\n",
       "      <th>Date</th>\n",
       "      <th></th>\n",
       "      <th></th>\n",
       "      <th></th>\n",
       "      <th></th>\n",
       "      <th></th>\n",
       "      <th></th>\n",
       "      <th></th>\n",
       "      <th></th>\n",
       "      <th></th>\n",
       "      <th></th>\n",
       "      <th></th>\n",
       "      <th></th>\n",
       "      <th></th>\n",
       "    </tr>\n",
       "  </thead>\n",
       "  <tbody>\n",
       "    <tr>\n",
       "      <th>2024-10-01</th>\n",
       "      <td>166.256821</td>\n",
       "      <td>28338100</td>\n",
       "      <td>NaN</td>\n",
       "      <td>NaN</td>\n",
       "      <td>NaN</td>\n",
       "      <td>0.000006</td>\n",
       "      <td>Down</td>\n",
       "      <td>-0.679042</td>\n",
       "      <td>-0.387948</td>\n",
       "      <td>NaN</td>\n",
       "      <td>NaN</td>\n",
       "      <td>NaN</td>\n",
       "      <td>-0.150121</td>\n",
       "    </tr>\n",
       "    <tr>\n",
       "      <th>2024-10-02</th>\n",
       "      <td>165.131775</td>\n",
       "      <td>17760200</td>\n",
       "      <td>-0.006790</td>\n",
       "      <td>NaN</td>\n",
       "      <td>NaN</td>\n",
       "      <td>0.000009</td>\n",
       "      <td>Down</td>\n",
       "      <td>-0.726853</td>\n",
       "      <td>-1.106996</td>\n",
       "      <td>-0.413174</td>\n",
       "      <td>NaN</td>\n",
       "      <td>NaN</td>\n",
       "      <td>1.222808</td>\n",
       "    </tr>\n",
       "    <tr>\n",
       "      <th>2024-10-03</th>\n",
       "      <td>165.131775</td>\n",
       "      <td>15073100</td>\n",
       "      <td>0.000000</td>\n",
       "      <td>NaN</td>\n",
       "      <td>NaN</td>\n",
       "      <td>0.000011</td>\n",
       "      <td>Down</td>\n",
       "      <td>-0.726853</td>\n",
       "      <td>-1.289655</td>\n",
       "      <td>-0.075813</td>\n",
       "      <td>NaN</td>\n",
       "      <td>NaN</td>\n",
       "      <td>1.886088</td>\n",
       "    </tr>\n",
       "    <tr>\n",
       "      <th>2024-10-04</th>\n",
       "      <td>166.326492</td>\n",
       "      <td>19047400</td>\n",
       "      <td>0.007209</td>\n",
       "      <td>NaN</td>\n",
       "      <td>NaN</td>\n",
       "      <td>0.000009</td>\n",
       "      <td>Down</td>\n",
       "      <td>-0.676081</td>\n",
       "      <td>-1.019496</td>\n",
       "      <td>0.282364</td>\n",
       "      <td>NaN</td>\n",
       "      <td>NaN</td>\n",
       "      <td>0.996472</td>\n",
       "    </tr>\n",
       "    <tr>\n",
       "      <th>2024-10-07</th>\n",
       "      <td>162.264404</td>\n",
       "      <td>22463100</td>\n",
       "      <td>-0.024726</td>\n",
       "      <td>NaN</td>\n",
       "      <td>NaN</td>\n",
       "      <td>0.000007</td>\n",
       "      <td>Up</td>\n",
       "      <td>-0.848707</td>\n",
       "      <td>-0.787309</td>\n",
       "      <td>-1.304316</td>\n",
       "      <td>NaN</td>\n",
       "      <td>NaN</td>\n",
       "      <td>0.392774</td>\n",
       "    </tr>\n",
       "  </tbody>\n",
       "</table>\n",
       "</div>"
      ],
      "text/plain": [
       "Price            Close    Volume Log_Return Vol_10D SMA_20D  PV_Ratio  \\\n",
       "Ticker           GOOGL     GOOGL                                        \n",
       "Date                                                                    \n",
       "2024-10-01  166.256821  28338100        NaN     NaN     NaN  0.000006   \n",
       "2024-10-02  165.131775  17760200  -0.006790     NaN     NaN  0.000009   \n",
       "2024-10-03  165.131775  15073100   0.000000     NaN     NaN  0.000011   \n",
       "2024-10-04  166.326492  19047400   0.007209     NaN     NaN  0.000009   \n",
       "2024-10-07  162.264404  22463100  -0.024726     NaN     NaN  0.000007   \n",
       "\n",
       "Price      Trading_Signal   Close_Z  Volume_Z Log_Return_Z Vol_10D_Z  \\\n",
       "Ticker                                                                 \n",
       "Date                                                                   \n",
       "2024-10-01           Down -0.679042 -0.387948          NaN       NaN   \n",
       "2024-10-02           Down -0.726853 -1.106996    -0.413174       NaN   \n",
       "2024-10-03           Down -0.726853 -1.289655    -0.075813       NaN   \n",
       "2024-10-04           Down -0.676081 -1.019496     0.282364       NaN   \n",
       "2024-10-07             Up -0.848707 -0.787309    -1.304316       NaN   \n",
       "\n",
       "Price      SMA_20D_Z PV_Ratio_Z  \n",
       "Ticker                           \n",
       "Date                             \n",
       "2024-10-01       NaN  -0.150121  \n",
       "2024-10-02       NaN   1.222808  \n",
       "2024-10-03       NaN   1.886088  \n",
       "2024-10-04       NaN   0.996472  \n",
       "2024-10-07       NaN   0.392774  "
      ]
     },
     "execution_count": 212,
     "metadata": {},
     "output_type": "execute_result"
    }
   ],
   "source": [
    "data.head()"
   ]
  },
  {
   "cell_type": "code",
   "execution_count": 213,
   "id": "900ecf13",
   "metadata": {},
   "outputs": [],
   "source": [
    "# One-Hot Encoding for the Trading Signal\n",
    "# Convert the 'Up'/'Down' categorical feature into binary columns.\n",
    "# drop_first=True prevents multicollinearity by making 'Down' the implied state \n",
    "# when 'Signal_Up' is 0.\n",
    "signal_dummies = pd.get_dummies(data[('Trading_Signal','')], prefix='Signal', drop_first=True)\n",
    "data['Signal_Up'] = signal_dummies['Signal_Up']\n",
    "data.drop(('Trading_Signal',''), axis=1, inplace=True)\n"
   ]
  },
  {
   "cell_type": "code",
   "execution_count": 214,
   "id": "10c97aef",
   "metadata": {},
   "outputs": [
    {
     "data": {
      "text/html": [
       "<div>\n",
       "<style scoped>\n",
       "    .dataframe tbody tr th:only-of-type {\n",
       "        vertical-align: middle;\n",
       "    }\n",
       "\n",
       "    .dataframe tbody tr th {\n",
       "        vertical-align: top;\n",
       "    }\n",
       "\n",
       "    .dataframe thead tr th {\n",
       "        text-align: left;\n",
       "    }\n",
       "\n",
       "    .dataframe thead tr:last-of-type th {\n",
       "        text-align: right;\n",
       "    }\n",
       "</style>\n",
       "<table border=\"1\" class=\"dataframe\">\n",
       "  <thead>\n",
       "    <tr>\n",
       "      <th>Price</th>\n",
       "      <th>Close</th>\n",
       "      <th>Volume</th>\n",
       "      <th>Log_Return</th>\n",
       "      <th>Vol_10D</th>\n",
       "      <th>SMA_20D</th>\n",
       "      <th>PV_Ratio</th>\n",
       "      <th>Close_Z</th>\n",
       "      <th>Volume_Z</th>\n",
       "      <th>Log_Return_Z</th>\n",
       "      <th>Vol_10D_Z</th>\n",
       "      <th>SMA_20D_Z</th>\n",
       "      <th>PV_Ratio_Z</th>\n",
       "      <th>Signal_Up</th>\n",
       "    </tr>\n",
       "    <tr>\n",
       "      <th>Ticker</th>\n",
       "      <th>GOOGL</th>\n",
       "      <th>GOOGL</th>\n",
       "      <th></th>\n",
       "      <th></th>\n",
       "      <th></th>\n",
       "      <th></th>\n",
       "      <th></th>\n",
       "      <th></th>\n",
       "      <th></th>\n",
       "      <th></th>\n",
       "      <th></th>\n",
       "      <th></th>\n",
       "      <th></th>\n",
       "    </tr>\n",
       "    <tr>\n",
       "      <th>Date</th>\n",
       "      <th></th>\n",
       "      <th></th>\n",
       "      <th></th>\n",
       "      <th></th>\n",
       "      <th></th>\n",
       "      <th></th>\n",
       "      <th></th>\n",
       "      <th></th>\n",
       "      <th></th>\n",
       "      <th></th>\n",
       "      <th></th>\n",
       "      <th></th>\n",
       "      <th></th>\n",
       "    </tr>\n",
       "  </thead>\n",
       "  <tbody>\n",
       "    <tr>\n",
       "      <th>2024-10-01</th>\n",
       "      <td>166.256821</td>\n",
       "      <td>28338100</td>\n",
       "      <td>NaN</td>\n",
       "      <td>NaN</td>\n",
       "      <td>NaN</td>\n",
       "      <td>0.000006</td>\n",
       "      <td>-0.679042</td>\n",
       "      <td>-0.387948</td>\n",
       "      <td>NaN</td>\n",
       "      <td>NaN</td>\n",
       "      <td>NaN</td>\n",
       "      <td>-0.150121</td>\n",
       "      <td>False</td>\n",
       "    </tr>\n",
       "    <tr>\n",
       "      <th>2024-10-02</th>\n",
       "      <td>165.131775</td>\n",
       "      <td>17760200</td>\n",
       "      <td>-0.006790</td>\n",
       "      <td>NaN</td>\n",
       "      <td>NaN</td>\n",
       "      <td>0.000009</td>\n",
       "      <td>-0.726853</td>\n",
       "      <td>-1.106996</td>\n",
       "      <td>-0.413174</td>\n",
       "      <td>NaN</td>\n",
       "      <td>NaN</td>\n",
       "      <td>1.222808</td>\n",
       "      <td>False</td>\n",
       "    </tr>\n",
       "    <tr>\n",
       "      <th>2024-10-03</th>\n",
       "      <td>165.131775</td>\n",
       "      <td>15073100</td>\n",
       "      <td>0.000000</td>\n",
       "      <td>NaN</td>\n",
       "      <td>NaN</td>\n",
       "      <td>0.000011</td>\n",
       "      <td>-0.726853</td>\n",
       "      <td>-1.289655</td>\n",
       "      <td>-0.075813</td>\n",
       "      <td>NaN</td>\n",
       "      <td>NaN</td>\n",
       "      <td>1.886088</td>\n",
       "      <td>False</td>\n",
       "    </tr>\n",
       "    <tr>\n",
       "      <th>2024-10-04</th>\n",
       "      <td>166.326492</td>\n",
       "      <td>19047400</td>\n",
       "      <td>0.007209</td>\n",
       "      <td>NaN</td>\n",
       "      <td>NaN</td>\n",
       "      <td>0.000009</td>\n",
       "      <td>-0.676081</td>\n",
       "      <td>-1.019496</td>\n",
       "      <td>0.282364</td>\n",
       "      <td>NaN</td>\n",
       "      <td>NaN</td>\n",
       "      <td>0.996472</td>\n",
       "      <td>False</td>\n",
       "    </tr>\n",
       "    <tr>\n",
       "      <th>2024-10-07</th>\n",
       "      <td>162.264404</td>\n",
       "      <td>22463100</td>\n",
       "      <td>-0.024726</td>\n",
       "      <td>NaN</td>\n",
       "      <td>NaN</td>\n",
       "      <td>0.000007</td>\n",
       "      <td>-0.848707</td>\n",
       "      <td>-0.787309</td>\n",
       "      <td>-1.304316</td>\n",
       "      <td>NaN</td>\n",
       "      <td>NaN</td>\n",
       "      <td>0.392774</td>\n",
       "      <td>True</td>\n",
       "    </tr>\n",
       "  </tbody>\n",
       "</table>\n",
       "</div>"
      ],
      "text/plain": [
       "Price            Close    Volume Log_Return Vol_10D SMA_20D  PV_Ratio  \\\n",
       "Ticker           GOOGL     GOOGL                                        \n",
       "Date                                                                    \n",
       "2024-10-01  166.256821  28338100        NaN     NaN     NaN  0.000006   \n",
       "2024-10-02  165.131775  17760200  -0.006790     NaN     NaN  0.000009   \n",
       "2024-10-03  165.131775  15073100   0.000000     NaN     NaN  0.000011   \n",
       "2024-10-04  166.326492  19047400   0.007209     NaN     NaN  0.000009   \n",
       "2024-10-07  162.264404  22463100  -0.024726     NaN     NaN  0.000007   \n",
       "\n",
       "Price        Close_Z  Volume_Z Log_Return_Z Vol_10D_Z SMA_20D_Z PV_Ratio_Z  \\\n",
       "Ticker                                                                       \n",
       "Date                                                                         \n",
       "2024-10-01 -0.679042 -0.387948          NaN       NaN       NaN  -0.150121   \n",
       "2024-10-02 -0.726853 -1.106996    -0.413174       NaN       NaN   1.222808   \n",
       "2024-10-03 -0.726853 -1.289655    -0.075813       NaN       NaN   1.886088   \n",
       "2024-10-04 -0.676081 -1.019496     0.282364       NaN       NaN   0.996472   \n",
       "2024-10-07 -0.848707 -0.787309    -1.304316       NaN       NaN   0.392774   \n",
       "\n",
       "Price      Signal_Up  \n",
       "Ticker                \n",
       "Date                  \n",
       "2024-10-01     False  \n",
       "2024-10-02     False  \n",
       "2024-10-03     False  \n",
       "2024-10-04     False  \n",
       "2024-10-07      True  "
      ]
     },
     "execution_count": 214,
     "metadata": {},
     "output_type": "execute_result"
    }
   ],
   "source": [
    "data.head()"
   ]
  },
  {
   "cell_type": "markdown",
   "id": "1611e628",
   "metadata": {},
   "source": [
    "################################################################################\n",
    "# STEP 5: Final Data Cleanup and Inspection\n",
    "################################################################################"
   ]
  },
  {
   "cell_type": "code",
   "execution_count": 215,
   "id": "801c743a",
   "metadata": {},
   "outputs": [
    {
     "name": "stdout",
     "output_type": "stream",
     "text": [
      "Final Cleaned, Engineered, Scaled, and Encoded Data Shape: (231, 13)\n"
     ]
    }
   ],
   "source": [
    "# Drop any rows that still contain NaNs (created by the rolling windows at the start).\n",
    "data.dropna(inplace=True)\n",
    "print(f\"Final Cleaned, Engineered, Scaled, and Encoded Data Shape: {data.shape}\")\n"
   ]
  },
  {
   "cell_type": "code",
   "execution_count": null,
   "id": "9b3024d8",
   "metadata": {},
   "outputs": [
    {
     "data": {
      "text/plain": [
       "MultiIndex([(       'Close', 'GOOGL'),\n",
       "            (      'Volume', 'GOOGL'),\n",
       "            (  'Log_Return',      ''),\n",
       "            (     'Vol_10D',      ''),\n",
       "            (     'SMA_20D',      ''),\n",
       "            (    'PV_Ratio',      ''),\n",
       "            (     'Close_Z',      ''),\n",
       "            (    'Volume_Z',      ''),\n",
       "            ('Log_Return_Z',      ''),\n",
       "            (   'Vol_10D_Z',      ''),\n",
       "            (   'SMA_20D_Z',      ''),\n",
       "            (  'PV_Ratio_Z',      ''),\n",
       "            (   'Signal_Up',      '')],\n",
       "           names=['Price', 'Ticker'])"
      ]
     },
     "execution_count": 217,
     "metadata": {},
     "output_type": "execute_result"
    }
   ],
   "source": [
    "data['']"
   ]
  },
  {
   "cell_type": "code",
   "execution_count": 218,
   "id": "0a900e92",
   "metadata": {},
   "outputs": [
    {
     "name": "stdout",
     "output_type": "stream",
     "text": [
      "Price        Close_Z  Volume_Z Log_Return_Z Vol_10D_Z SMA_20D_Z PV_Ratio_Z  \\\n",
      "Ticker                                                                       \n",
      "Date                                                                         \n",
      "2024-10-28 -0.583384 -0.129603     0.050311 -2.412794 -0.795787  -0.399718   \n",
      "2024-10-29 -0.565229  3.566613     0.049992 -2.412807 -0.788734  -1.716426   \n",
      "2024-10-30 -0.362985  2.368681     1.304512 -1.400170 -0.766183  -1.488897   \n",
      "2024-10-31 -0.504724  0.728967    -1.039157 -0.997564 -0.752416  -0.975097   \n",
      "2024-11-01 -0.497109 -0.152858    -0.023577 -0.995643 -0.741325  -0.351595   \n",
      "\n",
      "Price      Signal_Up  \n",
      "Ticker                \n",
      "Date                  \n",
      "2024-10-28      True  \n",
      "2024-10-29      True  \n",
      "2024-10-30      True  \n",
      "2024-10-31      True  \n",
      "2024-11-01     False  \n"
     ]
    }
   ],
   "source": [
    "# Filter to show only the features ready for model input (Standardized and One Hot Encoding)\n",
    "final_columns = [col for col in data.columns if col[0].endswith('_Z') or col[0].startswith('Signal')]\n",
    "print(data[final_columns].head())"
   ]
  },
  {
   "cell_type": "markdown",
   "id": "5599e1d5",
   "metadata": {},
   "source": [
    "# Question: \n",
    "## 1. How one hot encoding will behave when the column have 20 uniques values in it\n",
    "## 2. Try to apply Categorical PCA (Categorical Principal Component Analysis)\n",
    "## 3. Try to apply L1 Regularization"
   ]
  },
  {
   "cell_type": "code",
   "execution_count": null,
   "id": "7e5b56ae",
   "metadata": {},
   "outputs": [],
   "source": []
  }
 ],
 "metadata": {
  "kernelspec": {
   "display_name": "base",
   "language": "python",
   "name": "python3"
  },
  "language_info": {
   "codemirror_mode": {
    "name": "ipython",
    "version": 3
   },
   "file_extension": ".py",
   "mimetype": "text/x-python",
   "name": "python",
   "nbconvert_exporter": "python",
   "pygments_lexer": "ipython3",
   "version": "3.13.5"
  }
 },
 "nbformat": 4,
 "nbformat_minor": 5
}
